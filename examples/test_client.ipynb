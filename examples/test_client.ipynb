{
 "cells": [
  {
   "cell_type": "code",
   "execution_count": 1,
   "id": "9a898dc6-6948-4196-bd02-90119250ff44",
   "metadata": {
    "tags": []
   },
   "outputs": [],
   "source": [
    "# Import packages from the Python standard library\n",
    "import importlib.util\n",
    "import os\n",
    "import sys\n",
    "import pprint\n",
    "import time\n",
    "import warnings\n",
    "from pathlib import Path\n",
    "\n",
    "\n",
    "def register_python_source_file(module_name: str, filepath: Path) -> None:\n",
    "    \"\"\"Import a source file directly.\n",
    "\n",
    "    Args:\n",
    "        module_name: The module name to associate with the imported source file.\n",
    "        filepath: The path to the source file.\n",
    "\n",
    "    Notes:\n",
    "        Adapted from the following implementation in the Python documentation:\n",
    "        https://docs.python.org/3/library/importlib.html#importing-a-source-file-directly\n",
    "    \"\"\"\n",
    "    spec = importlib.util.spec_from_file_location(module_name, str(filepath))\n",
    "    module = importlib.util.module_from_spec(spec)\n",
    "    sys.modules[module_name] = module\n",
    "    spec.loader.exec_module(module)\n",
    "\n",
    "\n",
    "# Filter out warning messages\n",
    "warnings.filterwarnings(\"ignore\")\n",
    "\n",
    "# Experiment name\n",
    "EXPERIMENT_NAME = \"mnist\"\n",
    "\n",
    "# Default address for accessing the RESTful API service\n",
    "RESTAPI_ADDRESS = \"http://localhost:5000\"\n",
    "\n",
    "# Set DIOPTRA_RESTAPI_URI variable if not defined, used to connect to RESTful API service\n",
    "os.environ[\"DIOPTRA_RESTAPI_URI\"] = RESTAPI_ADDRESS\n",
    "\n",
    "# Default address for accessing the MLFlow Tracking server\n",
    "MLFLOW_TRACKING_URI = \"http://localhost:35000\"\n",
    "\n",
    "# Set MLFLOW_TRACKING_URI variable, used to connect to MLFlow Tracking service\n",
    "if os.getenv(\"MLFLOW_TRACKING_URI\") is None:\n",
    "    os.environ[\"MLFLOW_TRACKING_URI\"] = MLFLOW_TRACKING_URI\n",
    "\n",
    "# Path to workflows archive\n",
    "WORKFLOWS_TAR_GZ = Path(\"workflows.tar.gz\")\n",
    "\n",
    "# Register the examples/scripts directory as a Python module\n",
    "register_python_source_file(\"scripts\", Path(\"..\", \"scripts\", \"__init__.py\"))\n",
    "\n",
    "#from scripts.client import DioptraClient\n",
    "from scripts.utils import make_tar\n",
    "\n",
    "# Import third-party Python packages\n",
    "import numpy as np\n",
    "from mlflow.tracking import MlflowClient\n",
    "\n",
    "# Create random number generator\n",
    "rng = np.random.default_rng(54399264723942495723666216079516778448)"
   ]
  },
  {
   "cell_type": "code",
   "execution_count": 151,
   "id": "aac2611d-db29-43f0-9afa-69e6fdcdc8c2",
   "metadata": {},
   "outputs": [],
   "source": [
    "from __future__ import annotations\n",
    "\n",
    "import os\n",
    "from pathlib import Path\n",
    "from posixpath import join as urljoin\n",
    "from typing import Any\n",
    "from urllib.parse import urlparse, urlunparse\n",
    "import inspect\n",
    "import requests\n",
    "from typing import Any, cast\n",
    "\n",
    "DEBUG = True\n",
    "class Session(object):\n",
    "    pass\n",
    "\n",
    "def create_data_dict(**kwargs):\n",
    "    return kwargs\n",
    "\n",
    "def debug(url, data=None):\n",
    "    if DEBUG:\n",
    "        print(\"url:\", url)\n",
    "        if (data):\n",
    "            print(\"data:\", data)\n",
    "def get(session, endpoint, *features):\n",
    "    debug(urljoin(endpoint, *features))\n",
    "    return make_request(session, 'get', endpoint, None, *features)\n",
    "def post(session, endpoint, data, *features):\n",
    "    debug(urljoin(endpoint, *features), data)\n",
    "    return make_request(session, 'post', endpoint, data, *features)\n",
    "def delete(session, endpoint, data, *features):\n",
    "    debug(urljoin(endpoint, *features), data)\n",
    "    return make_request(session, 'delete', endpoint, data, *features)\n",
    "def put(session, endpoint, data, *features):\n",
    "    debug(urljoin(endpoint, *features), data)\n",
    "    return make_request(session, 'put', endpoint, data, *features)\n",
    "\n",
    "\n",
    "def make_request(session, method, endpoint, data, *features):\n",
    "    url = urljoin(endpoint, *features)\n",
    "    method = getattr(session, method)\n",
    "    try: \n",
    "        if (data):\n",
    "            ret = method(url, json=data)\n",
    "        else:\n",
    "            ret = method(url)\n",
    "    except* requests.ConnectionError as e:\n",
    "        handle_error(e) # this may occur if the connection was unsuccessful\n",
    "    \n",
    "    try:\n",
    "        ret = ret.json()\n",
    "    except* requests.JSONDecodeError as e:\n",
    "        handle_error(ret.text) # this occurs if the URL does not exist\n",
    "    return ret\n",
    "def handle_error(error):\n",
    "    print(error)\n",
    "\n",
    "class DioptraClient(object):\n",
    "    def __init__(self, session, address=None, api_version=\"v1\") -> None:\n",
    "        self._session = session\n",
    "        self._users = UsersClient(session, \"users\", address, api_version)\n",
    "        self._auth = AuthClient(session, \"auth\", address, api_version)\n",
    "    @property\n",
    "    def users(self):\n",
    "        return self.get_endpoint(self._users)\n",
    "    @property\n",
    "    def auth(self):\n",
    "        return self.get_endpoint(self._auth)\n",
    "\n",
    "    def get_endpoint(self, ep):\n",
    "        ep.session = self._session\n",
    "        return ep\n",
    "\n",
    "class Endpoint(object):\n",
    "    def __init__(self, session, ep_name, address, api_version) -> None:\n",
    "        address = (\n",
    "            f\"{address}/api/{api_version}\"\n",
    "            if address\n",
    "            else f\"{os.environ['DIOPTRA_RESTAPI_URI']}/api/{api_version}\"\n",
    "        )\n",
    "        self._scheme, self._netloc, self._path, _, _, _ = urlparse(address)\n",
    "        self._ep_name = ep_name\n",
    "        self._session = session\n",
    "    @property\n",
    "    def session(self):\n",
    "        return self._session\n",
    "    @session.setter\n",
    "    def session(self, s):\n",
    "        self._session = s\n",
    "    @property\n",
    "    def url(self):\n",
    "        return self.def_endpoint(self._ep_name)\n",
    "    def def_endpoint(self, name):\n",
    "        '''creates base url for an endpoint by name'''\n",
    "        return urlunparse(\n",
    "            (self._scheme, self._netloc, urljoin(self._path, name + \"/\"), \"\", \"\", \"\")\n",
    "        )\n",
    "\n",
    "class UsersClient(Endpoint):\n",
    "    def get_all(self):\n",
    "        '''gets all users'''\n",
    "        return get(self.session, self.url)\n",
    "    def create(self, username, email, password, confirm_password):\n",
    "        '''creates a user'''\n",
    "        d = {\"username\":username,\n",
    "             \"email\": email,\n",
    "             \"password\": password,\n",
    "             \"confirmPassword\": confirm_password}\n",
    "        return post(self.session, self.url, d)\n",
    "    def get_by_id(self, id):\n",
    "        '''get a user by id'''\n",
    "        return get(self.session, self.url, str(id))\n",
    "    def update_password_by_id(self, id, old_password, new_password, confirm_new_password):\n",
    "        '''change a user's password by id'''\n",
    "        d = {\"oldPassword\":old_password,\n",
    "             \"newPassword\": new_password,\n",
    "             \"confirmNewPassword\": confirm_new_password}\n",
    "        return post(self.session, self.url, d, str(id), 'password')\n",
    "    def current(self):\n",
    "        '''get the current user'''\n",
    "        return get(self.session, self.url, 'current')\n",
    "    def delete_current(self, password):\n",
    "        '''delete the current user'''\n",
    "        d = {\"password\":password}\n",
    "        return delete(self.session, self.url, d, 'current')\n",
    "    def modify_current(self, username, email):\n",
    "        '''modify the current user'''\n",
    "        d = {\"username\":username,\n",
    "             \"email\": email}\n",
    "        return put(self.session, self.url, d, 'current')\n",
    "    def modify_current_password(self, old_password, new_password, confirm_new_password):\n",
    "        '''modify the current user's password'''\n",
    "        d = {\"oldPassword\":old_password,\n",
    "             \"newPassword\": new_password,\n",
    "             \"confirmNewPassword\": confirm_new_password}\n",
    "        return post(self.session, self.url, d, 'current', 'password')\n",
    "    def failed_user_post(self):\n",
    "        return post(self.session, self.url, {'a':'doesnotexist'})\n",
    "    def failed_user_get(self):\n",
    "        return get(self.session, self.url, 'doesnotexist')\n",
    "class AuthClient(Endpoint):\n",
    "    def login(self, username, password):\n",
    "        d = {\"username\":username,\n",
    "             \"password\": password}\n",
    "        return post(self.session, self.url, d, 'login')\n",
    "    def logout(self, everywhere):\n",
    "        d = {\"everywhere\": everywhere}\n",
    "        return post(self.session, self.url, d, 'logout')"
   ]
  },
  {
   "cell_type": "code",
   "execution_count": 152,
   "id": "b86640a1-94c4-45d8-a470-65d97ee3c220",
   "metadata": {},
   "outputs": [],
   "source": [
    "client = DioptraClient(requests.Session())"
   ]
  },
  {
   "cell_type": "code",
   "execution_count": 153,
   "id": "e515a8b4-7ca8-40a1-a6f8-4b0a4f3d151c",
   "metadata": {},
   "outputs": [
    {
     "name": "stdout",
     "output_type": "stream",
     "text": [
      "url: http://localhost:5000/api/v1/users/\n",
      "data: {'username': 'testuser', 'email': 'testuser@gmail.com', 'password': 'testuserpassword', 'confirmPassword': 'testuserpassword'}\n"
     ]
    },
    {
     "data": {
      "text/plain": [
       "{'username': 'testuser',\n",
       " 'email': 'testuser@gmail.com',\n",
       " 'id': 6,\n",
       " 'groups': [{'id': 1, 'name': 'public', 'url': '/api/v1/groups/1'}],\n",
       " 'createdOn': '2024-06-19T18:05:09.732129+00:00',\n",
       " 'lastModifiedOn': '2024-06-19T18:05:09.732129+00:00',\n",
       " 'lastLoginOn': None,\n",
       " 'passwordExpiresOn': '2025-06-19T18:05:09.732129+00:00'}"
      ]
     },
     "execution_count": 153,
     "metadata": {},
     "output_type": "execute_result"
    }
   ],
   "source": [
    "client.users.create('testuser','testuser@gmail.com','testuserpassword','testuserpassword')"
   ]
  },
  {
   "cell_type": "code",
   "execution_count": 154,
   "id": "820d8943-9004-4954-8cff-0f9545ef28b8",
   "metadata": {},
   "outputs": [
    {
     "name": "stdout",
     "output_type": "stream",
     "text": [
      "url: http://localhost:5000/api/v1/users/\n",
      "data: {'username': 'testuser2', 'email': 'testuser2@gmail.com', 'password': 'testuserpassword', 'confirmPassword': 'testuserpassword'}\n"
     ]
    },
    {
     "data": {
      "text/plain": [
       "{'message': 'Bad Request - The username on the registration form is not available. Please select another and resubmit.'}"
      ]
     },
     "execution_count": 154,
     "metadata": {},
     "output_type": "execute_result"
    }
   ],
   "source": [
    "client.users.create('testuser2','testuser2@gmail.com','testuserpassword','testuserpassword')"
   ]
  },
  {
   "cell_type": "code",
   "execution_count": 155,
   "id": "7cdf6dfa-8c6f-481f-be82-f6d816efe624",
   "metadata": {},
   "outputs": [
    {
     "name": "stdout",
     "output_type": "stream",
     "text": [
      "url: http://localhost:5000/api/v1/auth/login\n",
      "data: {'username': 'testuser', 'password': 'testuserpassword'}\n"
     ]
    },
    {
     "data": {
      "text/plain": [
       "{'username': 'testuser', 'status': 'Login successful'}"
      ]
     },
     "execution_count": 155,
     "metadata": {},
     "output_type": "execute_result"
    }
   ],
   "source": [
    "client.auth.login('testuser','testuserpassword')"
   ]
  },
  {
   "cell_type": "code",
   "execution_count": 156,
   "id": "03a2495f-64a0-46d0-b986-1fe5a3e6c3ff",
   "metadata": {},
   "outputs": [
    {
     "name": "stdout",
     "output_type": "stream",
     "text": [
      "url: http://localhost:5000/api/v1/users/\n"
     ]
    },
    {
     "data": {
      "text/plain": [
       "{'index': 0,\n",
       " 'isComplete': True,\n",
       " 'totalNumResults': 5,\n",
       " 'first': '/api/v1/users?index=0&pageLength=10',\n",
       " 'data': [{'username': 'string', 'email': 'string', 'id': 1},\n",
       "  {'username': 'aa', 'email': 'aa', 'id': 2},\n",
       "  {'username': 'newuser', 'email': 'newemail@email.com', 'id': 3},\n",
       "  {'username': 'testuser2', 'email': 'testuser2@gmail.com', 'id': 4},\n",
       "  {'username': 'testuser', 'email': 'testuser@gmail.com', 'id': 6}]}"
      ]
     },
     "execution_count": 156,
     "metadata": {},
     "output_type": "execute_result"
    }
   ],
   "source": [
    "client.users.get_all()"
   ]
  },
  {
   "cell_type": "code",
   "execution_count": 157,
   "id": "38d3d6af-ed29-46db-b065-b8e59280e8a2",
   "metadata": {},
   "outputs": [
    {
     "name": "stdout",
     "output_type": "stream",
     "text": [
      "url: http://localhost:5000/api/v1/users/1\n"
     ]
    },
    {
     "data": {
      "text/plain": [
       "{'username': 'string', 'email': 'string', 'id': 1}"
      ]
     },
     "execution_count": 157,
     "metadata": {},
     "output_type": "execute_result"
    }
   ],
   "source": [
    "client.users.get_by_id('1')"
   ]
  },
  {
   "cell_type": "code",
   "execution_count": 158,
   "id": "0d223a7f-6cb9-452a-b49b-dc22e552e681",
   "metadata": {},
   "outputs": [
    {
     "name": "stdout",
     "output_type": "stream",
     "text": [
      "url: http://localhost:5000/api/v1/users/2\n"
     ]
    },
    {
     "data": {
      "text/plain": [
       "{'username': 'aa', 'email': 'aa', 'id': 2}"
      ]
     },
     "execution_count": 158,
     "metadata": {},
     "output_type": "execute_result"
    }
   ],
   "source": [
    "client.users.get_by_id('2')"
   ]
  },
  {
   "cell_type": "code",
   "execution_count": 159,
   "id": "64e47e9e-5e29-47d2-8465-bcb0c1e64ce1",
   "metadata": {},
   "outputs": [
    {
     "name": "stdout",
     "output_type": "stream",
     "text": [
      "url: http://localhost:5000/api/v1/users/current\n"
     ]
    },
    {
     "data": {
      "text/plain": [
       "{'username': 'testuser',\n",
       " 'email': 'testuser@gmail.com',\n",
       " 'id': 6,\n",
       " 'groups': [{'id': 1, 'name': 'public', 'url': '/api/v1/groups/1'}],\n",
       " 'createdOn': '2024-06-19T18:05:09.732129+00:00',\n",
       " 'lastModifiedOn': '2024-06-19T18:05:09.732129+00:00',\n",
       " 'lastLoginOn': '2024-06-19T18:05:10.212491+00:00',\n",
       " 'passwordExpiresOn': '2025-06-19T18:05:09.732129+00:00'}"
      ]
     },
     "execution_count": 159,
     "metadata": {},
     "output_type": "execute_result"
    }
   ],
   "source": [
    "client.users.current()"
   ]
  },
  {
   "cell_type": "code",
   "execution_count": 160,
   "id": "9be1410f-19ee-4213-8c1c-34fdf6faac97",
   "metadata": {},
   "outputs": [
    {
     "name": "stdout",
     "output_type": "stream",
     "text": [
      "url: http://localhost:5000/api/v1/users/current\n",
      "url: http://localhost:5000/api/v1/users/6/password\n",
      "data: {'oldPassword': 'testuserpassword', 'newPassword': 'newtestuserpassword', 'confirmNewPassword': 'newtestuserpassword'}\n"
     ]
    },
    {
     "data": {
      "text/plain": [
       "{'status': 'Password Change Success'}"
      ]
     },
     "execution_count": 160,
     "metadata": {},
     "output_type": "execute_result"
    }
   ],
   "source": [
    "client.users.update_password_by_id(client.users.current()['id'],'testuserpassword','newtestuserpassword','newtestuserpassword')"
   ]
  },
  {
   "cell_type": "code",
   "execution_count": 161,
   "id": "38e9b0e2-a51a-44f1-95de-5d2916fd9017",
   "metadata": {},
   "outputs": [
    {
     "name": "stdout",
     "output_type": "stream",
     "text": [
      "url: http://localhost:5000/api/v1/users/current\n",
      "data: {'username': 'testuser', 'email': 'newemail@email.com'}\n"
     ]
    },
    {
     "data": {
      "text/plain": [
       "{'message': \"The server could not verify that you are authorized to access the URL requested. You either supplied the wrong credentials (e.g. a bad password), or your browser doesn't understand how to supply the credentials required.\"}"
      ]
     },
     "execution_count": 161,
     "metadata": {},
     "output_type": "execute_result"
    }
   ],
   "source": [
    "client.users.modify_current('testuser','newemail@email.com')"
   ]
  },
  {
   "cell_type": "code",
   "execution_count": 162,
   "id": "bfb22fa9-2800-4a3e-b0f0-6213a76827b6",
   "metadata": {},
   "outputs": [
    {
     "name": "stdout",
     "output_type": "stream",
     "text": [
      "url: http://localhost:5000/api/v1/auth/login\n",
      "data: {'username': 'testuser', 'password': 'newtestuserpassword'}\n"
     ]
    },
    {
     "data": {
      "text/plain": [
       "{'username': 'testuser', 'status': 'Login successful'}"
      ]
     },
     "execution_count": 162,
     "metadata": {},
     "output_type": "execute_result"
    }
   ],
   "source": [
    "client.auth.login('testuser','newtestuserpassword')"
   ]
  },
  {
   "cell_type": "code",
   "execution_count": 163,
   "id": "3ecbc10b-d912-4902-89a6-b26b0939126c",
   "metadata": {},
   "outputs": [
    {
     "name": "stdout",
     "output_type": "stream",
     "text": [
      "url: http://localhost:5000/api/v1/users/current\n",
      "data: {'username': 'testuser', 'email': 'newemail@email.com'}\n"
     ]
    },
    {
     "data": {
      "text/plain": [
       "{'username': 'testuser',\n",
       " 'email': 'newemail@email.com',\n",
       " 'id': 6,\n",
       " 'groups': [{'id': 1, 'name': 'public', 'url': '/api/v1/groups/1'}],\n",
       " 'createdOn': '2024-06-19T18:05:09.732129+00:00',\n",
       " 'lastModifiedOn': '2024-06-19T18:05:11.913576+00:00',\n",
       " 'lastLoginOn': '2024-06-19T18:05:11.709840+00:00',\n",
       " 'passwordExpiresOn': '2025-06-19T18:05:11.402927+00:00'}"
      ]
     },
     "execution_count": 163,
     "metadata": {},
     "output_type": "execute_result"
    }
   ],
   "source": [
    "client.users.modify_current('testuser','newemail@email.com')"
   ]
  },
  {
   "cell_type": "code",
   "execution_count": 164,
   "id": "85dff8c4-0e08-4697-83a2-0e48a2d7c82e",
   "metadata": {},
   "outputs": [
    {
     "name": "stdout",
     "output_type": "stream",
     "text": [
      "url: http://localhost:5000/api/v1/users/current/password\n",
      "data: {'oldPassword': 'newtestuserpassword', 'newPassword': 'newnewtestuserpassword', 'confirmNewPassword': 'newnewtestuserpassword'}\n"
     ]
    },
    {
     "data": {
      "text/plain": [
       "{'status': 'Password Change Success'}"
      ]
     },
     "execution_count": 164,
     "metadata": {},
     "output_type": "execute_result"
    }
   ],
   "source": [
    "client.users.modify_current_password('newtestuserpassword','newnewtestuserpassword','newnewtestuserpassword')"
   ]
  },
  {
   "cell_type": "code",
   "execution_count": 165,
   "id": "2bd0e110-e0e2-40a8-bbe1-b42de674095f",
   "metadata": {},
   "outputs": [
    {
     "name": "stdout",
     "output_type": "stream",
     "text": [
      "url: http://localhost:5000/api/v1/auth/logout\n",
      "data: {'everywhere': True}\n"
     ]
    },
    {
     "data": {
      "text/plain": [
       "{'message': \"The server could not verify that you are authorized to access the URL requested. You either supplied the wrong credentials (e.g. a bad password), or your browser doesn't understand how to supply the credentials required.\"}"
      ]
     },
     "execution_count": 165,
     "metadata": {},
     "output_type": "execute_result"
    }
   ],
   "source": [
    "client.auth.logout(True)"
   ]
  },
  {
   "cell_type": "code",
   "execution_count": 166,
   "id": "b9cf075a-147b-4000-921e-399c83e6cc39",
   "metadata": {},
   "outputs": [
    {
     "name": "stdout",
     "output_type": "stream",
     "text": [
      "url: http://localhost:5000/api/v1/auth/login\n",
      "data: {'username': 'testuser', 'password': 'newnewtestuserpassword'}\n"
     ]
    },
    {
     "data": {
      "text/plain": [
       "{'username': 'testuser', 'status': 'Login successful'}"
      ]
     },
     "execution_count": 166,
     "metadata": {},
     "output_type": "execute_result"
    }
   ],
   "source": [
    "client.auth.login('testuser','newnewtestuserpassword')"
   ]
  },
  {
   "cell_type": "code",
   "execution_count": 167,
   "id": "4733451b-e3ad-4d46-ac95-6ae988582fce",
   "metadata": {
    "scrolled": true
   },
   "outputs": [
    {
     "name": "stdout",
     "output_type": "stream",
     "text": [
      "url: http://localhost:5000/api/v1/users/current\n",
      "data: {'password': 'newnewtestuserpassword'}\n"
     ]
    },
    {
     "data": {
      "text/plain": [
       "{'status': 'Success'}"
      ]
     },
     "execution_count": 167,
     "metadata": {},
     "output_type": "execute_result"
    }
   ],
   "source": [
    "client.users.delete_current('newnewtestuserpassword')"
   ]
  },
  {
   "cell_type": "code",
   "execution_count": 168,
   "id": "a2297696-3740-4eab-8eb7-a97e85b65e69",
   "metadata": {},
   "outputs": [
    {
     "name": "stdout",
     "output_type": "stream",
     "text": [
      "url: http://localhost:5000/api/v1/users/\n",
      "data: {'a': 'doesnotexist'}\n"
     ]
    },
    {
     "data": {
      "text/plain": [
       "{'schema_errors': {'a': ['Unknown field.']}}"
      ]
     },
     "execution_count": 168,
     "metadata": {},
     "output_type": "execute_result"
    }
   ],
   "source": [
    "client.users.failed_user_post() # if we get the schema wrong, it does return JSON"
   ]
  },
  {
   "cell_type": "code",
   "execution_count": 169,
   "id": "5be4332e-2960-4ab5-8ae7-1363f27329e1",
   "metadata": {},
   "outputs": [
    {
     "name": "stdout",
     "output_type": "stream",
     "text": [
      "url: http://localhost:5000/api/v1/users/doesnotexist\n",
      "<!doctype html>\n",
      "<html lang=en>\n",
      "<title>404 Not Found</title>\n",
      "<h1>Not Found</h1>\n",
      "<p>The requested URL was not found on the server. If you entered the URL manually please check your spelling and try again.</p>\n",
      "\n"
     ]
    },
    {
     "data": {
      "text/plain": [
       "<Response [404]>"
      ]
     },
     "execution_count": 169,
     "metadata": {},
     "output_type": "execute_result"
    }
   ],
   "source": [
    "client.users.failed_user_get() # if we get the URL wrong, it does not return JSON"
   ]
  }
 ],
 "metadata": {
  "kernelspec": {
   "display_name": "Python 3 (ipykernel)",
   "language": "python",
   "name": "python3"
  },
  "language_info": {
   "codemirror_mode": {
    "name": "ipython",
    "version": 3
   },
   "file_extension": ".py",
   "mimetype": "text/x-python",
   "name": "python",
   "nbconvert_exporter": "python",
   "pygments_lexer": "ipython3",
   "version": "3.11.9"
  }
 },
 "nbformat": 4,
 "nbformat_minor": 5
}
