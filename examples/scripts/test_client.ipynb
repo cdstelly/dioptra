{
 "cells": [
  {
   "cell_type": "code",
   "execution_count": 6,
   "id": "9a898dc6-6948-4196-bd02-90119250ff44",
   "metadata": {
    "tags": []
   },
   "outputs": [],
   "source": [
    "# Import packages from the Python standard library\n",
    "import importlib.util\n",
    "import os\n",
    "import sys\n",
    "import pprint\n",
    "import time\n",
    "import warnings\n",
    "from pathlib import Path\n",
    "\n",
    "\n",
    "def register_python_source_file(module_name: str, filepath: Path) -> None:\n",
    "    \"\"\"Import a source file directly.\n",
    "\n",
    "    Args:\n",
    "        module_name: The module name to associate with the imported source file.\n",
    "        filepath: The path to the source file.\n",
    "\n",
    "    Notes:\n",
    "        Adapted from the following implementation in the Python documentation:\n",
    "        https://docs.python.org/3/library/importlib.html#importing-a-source-file-directly\n",
    "    \"\"\"\n",
    "    spec = importlib.util.spec_from_file_location(module_name, str(filepath))\n",
    "    module = importlib.util.module_from_spec(spec)\n",
    "    sys.modules[module_name] = module\n",
    "    spec.loader.exec_module(module)\n",
    "\n",
    "\n",
    "# Filter out warning messages\n",
    "warnings.filterwarnings(\"ignore\")\n",
    "\n",
    "# Experiment name\n",
    "EXPERIMENT_NAME = \"mnist\"\n",
    "\n",
    "# Default address for accessing the RESTful API service\n",
    "RESTAPI_ADDRESS = \"http://localhost:5000\"\n",
    "\n",
    "# Set DIOPTRA_RESTAPI_URI variable if not defined, used to connect to RESTful API service\n",
    "os.environ[\"DIOPTRA_RESTAPI_URI\"] = RESTAPI_ADDRESS\n",
    "\n",
    "# Default address for accessing the MLFlow Tracking server\n",
    "MLFLOW_TRACKING_URI = \"http://localhost:35000\"\n",
    "\n",
    "# Set MLFLOW_TRACKING_URI variable, used to connect to MLFlow Tracking service\n",
    "if os.getenv(\"MLFLOW_TRACKING_URI\") is None:\n",
    "    os.environ[\"MLFLOW_TRACKING_URI\"] = MLFLOW_TRACKING_URI\n",
    "\n",
    "# Path to workflows archive\n",
    "WORKFLOWS_TAR_GZ = Path(\"workflows.tar.gz\")\n",
    "\n",
    "# Register the examples/scripts directory as a Python module\n",
    "register_python_source_file(\"scripts\", Path(\"..\", \"scripts\", \"__init__.py\"))\n",
    "\n",
    "#from scripts.client import DioptraClient\n",
    "from scripts.utils import make_tar\n",
    "\n",
    "# Import third-party Python packages\n",
    "import numpy as np\n",
    "from mlflow.tracking import MlflowClient\n",
    "\n",
    "# Create random number generator\n",
    "rng = np.random.default_rng(54399264723942495723666216079516778448)"
   ]
  },
  {
   "cell_type": "code",
   "execution_count": 7,
   "id": "aac2611d-db29-43f0-9afa-69e6fdcdc8c2",
   "metadata": {},
   "outputs": [],
   "source": [
    "from __future__ import annotations\n",
    "\n",
    "import os\n",
    "from pathlib import Path\n",
    "from posixpath import join as urljoin\n",
    "from typing import Any\n",
    "from urllib.parse import urlparse, urlunparse\n",
    "import inspect\n",
    "import requests\n",
    "from typing import Any, cast\n",
    "\n",
    "import structlog\n",
    "from structlog.stdlib import BoundLogger\n",
    "\n",
    "LOGGER: BoundLogger = structlog.stdlib.get_logger()\n",
    "\n",
    "class APIConnectionError(Exception):\n",
    "    '''Class for connection errors'''\n",
    "class StatusCodeError(Exception):\n",
    "    '''Class for status code errors'''\n",
    "class JSONDecodeError(Exception):\n",
    "    '''Class for JSON decode errors'''\n",
    "\n",
    "def create_data_dict(**kwargs):\n",
    "    return kwargs\n",
    "\n",
    "def debug(url, data=None):\n",
    "    LOGGER.debug(\"Request made.\", url=url, data=data)\n",
    "\n",
    "def get(session, endpoint, *features):\n",
    "    debug(urljoin(endpoint, *features))\n",
    "    return make_request(session, 'get', endpoint, None, *features)\n",
    "def post(session, endpoint, data, *features):\n",
    "    debug(urljoin(endpoint, *features), data)\n",
    "    return make_request(session, 'post', endpoint, data, *features)\n",
    "def delete(session, endpoint, data, *features):\n",
    "    debug(urljoin(endpoint, *features), data)\n",
    "    return make_request(session, 'delete', endpoint, data, *features)\n",
    "def put(session, endpoint, data, *features):\n",
    "    debug(urljoin(endpoint, *features), data)\n",
    "    return make_request(session, 'put', endpoint, data, *features)\n",
    "\n",
    "\n",
    "def make_request(session, method_name, endpoint, data, *features):\n",
    "    url = urljoin(endpoint, *features)\n",
    "    method = getattr(session, method_name)\n",
    "    try: \n",
    "        if (data):\n",
    "            response = method(url, json=data)\n",
    "        else:\n",
    "            response = method(url)\n",
    "        if response.status_code is not 200:\n",
    "            raise StatusCodeError() \n",
    "        json = response.json()\n",
    "    except (requests.ConnectionError, StatusCodeError, requests.JSONDecodeError) as e:\n",
    "        handle_error(session, url, method_name.upper(), data, response, e) \n",
    "    return json\n",
    "\n",
    "def handle_error(session, url, method, data, response, error):\n",
    "    if (type(error) is requests.ConnectionError):\n",
    "        restapi = os.environ[\"DIOPTRA_RESTAPI_URI\"]\n",
    "        message = f\"Could not connect to the REST API. Is the server running at {restapi}?\"\n",
    "        LOGGER.error(message, url=url, method=method, data=data, response=response.text);\n",
    "        raise APIConnectionError(message);\n",
    "    if (type(error) is StatusCodeError):\n",
    "        message = f\"Error code {response.status_code} returned.\"\n",
    "        LOGGER.error(message, url=url, method=method, data=data, response=response.text);\n",
    "        raise StatusCodeError(message);\n",
    "    if (type(error) is requests.JSONDecodeError):\n",
    "        message = f\"JSON response could not be decoded.\"\n",
    "        LOGGER.error(message, url=url, method=method, data=data, response=response.text);\n",
    "        raise JSONDecodeError(message);\n",
    "\n",
    "        \n",
    "\n",
    "class DioptraClient(object):\n",
    "    def __init__(self, session, address=None, api_version=\"v1\") -> None:\n",
    "        self._session = session\n",
    "        self._users = UsersClient(session, \"users\", address, api_version)\n",
    "        self._auth = AuthClient(session, \"auth\", address, api_version)\n",
    "        self._queues = QueuesClient(session, \"queues\", address, api_version)\n",
    "        self._groups = QueuesClient(session, \"groups\", address, api_version)\n",
    "    @property\n",
    "    def users(self):\n",
    "        return self.get_endpoint(self._users)\n",
    "    @property\n",
    "    def auth(self):\n",
    "        return self.get_endpoint(self._auth)\n",
    "    @property\n",
    "    def queues(self):\n",
    "        return self.get_endpoint(self._queues)\n",
    "    @property\n",
    "    def groups(self):\n",
    "        return self.get_endpoint(self._groups)\n",
    "\n",
    "    \n",
    "    def get_endpoint(self, ep):\n",
    "        ep.session = self._session\n",
    "        return ep\n",
    "\n",
    "class Endpoint(object):\n",
    "    def __init__(self, session, ep_name, address, api_version) -> None:\n",
    "        address = (\n",
    "            f\"{address}/api/{api_version}\"\n",
    "            if address\n",
    "            else f\"{os.environ['DIOPTRA_RESTAPI_URI']}/api/{api_version}\"\n",
    "        )\n",
    "        self._scheme, self._netloc, self._path, _, _, _ = urlparse(address)\n",
    "        self._ep_name = ep_name\n",
    "        self._session = session\n",
    "    @property\n",
    "    def session(self):\n",
    "        return self._session\n",
    "    @session.setter\n",
    "    def session(self, s):\n",
    "        self._session = s\n",
    "    @property\n",
    "    def url(self):\n",
    "        return self.def_endpoint(self._ep_name)\n",
    "    def def_endpoint(self, name):\n",
    "        '''creates base url for an endpoint by name'''\n",
    "        return urlunparse(\n",
    "            (self._scheme, self._netloc, urljoin(self._path, name + \"/\"), \"\", \"\", \"\")\n",
    "        )\n",
    "\n",
    "class UsersClient(Endpoint):\n",
    "    def get_all(self):\n",
    "        '''gets all users'''\n",
    "        return get(self.session, self.url)\n",
    "    def create(self, username, email, password, confirm_password):\n",
    "        '''creates a user'''\n",
    "        d = {\"username\":username,\n",
    "             \"email\": email,\n",
    "             \"password\": password,\n",
    "             \"confirmPassword\": confirm_password}\n",
    "        return post(self.session, self.url, d)\n",
    "    def get_by_id(self, id):\n",
    "        '''get a user by id'''\n",
    "        return get(self.session, self.url, str(id))\n",
    "    def update_password_by_id(self, id, old_password, new_password, confirm_new_password):\n",
    "        '''change a user's password by id'''\n",
    "        d = {\"oldPassword\":old_password,\n",
    "             \"newPassword\": new_password,\n",
    "             \"confirmNewPassword\": confirm_new_password}\n",
    "        return post(self.session, self.url, d, str(id), 'password')\n",
    "    def current(self):\n",
    "        '''get the current user'''\n",
    "        return get(self.session, self.url, 'current')\n",
    "    def delete_current(self, password):\n",
    "        '''delete the current user'''\n",
    "        d = {\"password\":password}\n",
    "        return delete(self.session, self.url, d, 'current')\n",
    "    def modify_current(self, username, email):\n",
    "        '''modify the current user'''\n",
    "        d = {\"username\":username,\n",
    "             \"email\": email}\n",
    "        return put(self.session, self.url, d, 'current')\n",
    "    def modify_current_password(self, old_password, new_password, confirm_new_password):\n",
    "        '''modify the current user's password'''\n",
    "        d = {\"oldPassword\":old_password,\n",
    "             \"newPassword\": new_password,\n",
    "             \"confirmNewPassword\": confirm_new_password}\n",
    "        return post(self.session, self.url, d, 'current', 'password')\n",
    "    def failed_user_post(self):\n",
    "        '''create a post request with an invalid schema, for testing'''\n",
    "        return post(self.session, self.url, {'a':'doesnotexist'})\n",
    "    def failed_user_get(self):\n",
    "        '''create a get request to an invalid url, for testing'''\n",
    "        return get(self.session, self.url, 'doesnotexist')\n",
    "\n",
    "class AuthClient(Endpoint):\n",
    "    def login(self, username, password):\n",
    "        '''login as the given user'''\n",
    "        d = {\"username\":username,\n",
    "             \"password\": password}\n",
    "        return post(self.session, self.url, d, 'login')\n",
    "    def logout(self, everywhere):\n",
    "        '''logout as the current user'''\n",
    "        d = {\"everywhere\": everywhere}\n",
    "        return post(self.session, self.url, d, 'logout')\n",
    "\n",
    "class GroupsClient(Endpoint):\n",
    "    def get_all(self):\n",
    "        '''get all groups'''\n",
    "        return get(self.session, self.url)\n",
    "    def get_by_id(self, gid):\n",
    "        '''get a group by id'''\n",
    "        return get(self.session, self.url, str(gid))\n",
    "        \n",
    "class QueuesClient(Endpoint):\n",
    "    def get_all(self):\n",
    "        '''gets all queues'''\n",
    "        return get(self.session, self.url)\n",
    "    def create(self, group, name, description):\n",
    "        '''create a queue'''\n",
    "        d = {\"group\": group,\n",
    "             \"name\": name,\n",
    "             \"description\": description\n",
    "            }\n",
    "        return post(self.session, self.url, d)\n",
    "    def get_drafts(self):\n",
    "        '''gets the queue drafts'''\n",
    "        return get(self.session, self.url, 'drafts')\n",
    "    def create_draft(self, group, name, description):\n",
    "        '''create a queue'''\n",
    "        d = {\"group\": group,\n",
    "             \"name\": name,\n",
    "             \"description\": description\n",
    "            }\n",
    "        return post(self.session, self.url, d, 'drafts')\n",
    "    def modify_draft_by_draft_id(self, draft_id, name, description):\n",
    "        '''modify a queue draft by id'''\n",
    "        d = {\"name\": name,\n",
    "             \"description\": description\n",
    "            }\n",
    "        return put(self.session, self.url, d, 'drafts', str(draft_id))\n",
    "    def delete_draft_by_draft_id(self, draft_id):\n",
    "        '''delete a queue draft by id'''\n",
    "        d = None\n",
    "        return delete(self.session, self.url, d, 'drafts', str(draft_id))\n",
    "    def get_draft_by_draft_id(self, draft_id):\n",
    "        '''get a queue draft by id'''\n",
    "        return get(self.session, self.url, 'drafts', str(draft_id))\n",
    "    def modify_by_queue_id(self, queue_id, name, description):\n",
    "        '''modify a queue by id'''\n",
    "        d = {\"name\": name,\n",
    "             \"description\": description\n",
    "            }\n",
    "        return put(self.session, self.url, d, str(queue_id))\n",
    "    def delete_by_queue_id(self, queue_id):\n",
    "        '''delete a queue by id'''\n",
    "        d = None\n",
    "        return delete(self.session, self.url, d, str(queue_id))\n",
    "    def get_by_queue_id(self, queue_id):\n",
    "        '''get a queue by id'''\n",
    "        return get(self.session, self.url, str(queue_id))\n",
    "    def modify_draft_by_queue_id(self, queue_id, name, description):\n",
    "        '''modify a queue by id'''\n",
    "        d = {\"name\": name,\n",
    "             \"description\": description\n",
    "            }\n",
    "        return put(self.session, self.url, d, str(queue_id), 'draft')\n",
    "    def create_draft_by_queue_id(self, queue_id, name, description):\n",
    "        '''create a queue by id'''\n",
    "        d = {\"name\": name,\n",
    "             \"description\": description\n",
    "            }\n",
    "        return post(self.session, self.url, d, str(queue_id), 'draft')\n",
    "    def delete_draft_by_queue_id(self, queue_id):\n",
    "        '''delete a queue by id'''\n",
    "        d = None\n",
    "        return delete(self.session, self.url, d, str(queue_id), 'draft')\n",
    "    def get_draft_by_queue_id(self, queue_id):\n",
    "        '''get a queue by id'''\n",
    "        return get(self.session, self.url, str(queue_id), 'draft')\n",
    "    \n"
   ]
  },
  {
   "cell_type": "code",
   "execution_count": 8,
   "id": "b86640a1-94c4-45d8-a470-65d97ee3c220",
   "metadata": {},
   "outputs": [],
   "source": [
    "client = DioptraClient(requests.Session())"
   ]
  },
  {
   "cell_type": "code",
   "execution_count": 9,
   "id": "e515a8b4-7ca8-40a1-a6f8-4b0a4f3d151c",
   "metadata": {},
   "outputs": [
    {
     "name": "stdout",
     "output_type": "stream",
     "text": [
      "\u001b[2m2024-06-20 14:19:05\u001b[0m [\u001b[32m\u001b[1mdebug    \u001b[0m] \u001b[1mRequest made.                 \u001b[0m \u001b[36mdata\u001b[0m=\u001b[35m{'username': 'testuser', 'email': 'testuser@gmail.com', 'password': 'testuserpassword', 'confirmPassword': 'testuserpassword'}\u001b[0m \u001b[36murl\u001b[0m=\u001b[35mhttp://localhost:5000/api/v1/users/\u001b[0m\n"
     ]
    },
    {
     "data": {
      "text/plain": [
       "{'username': 'testuser',\n",
       " 'email': 'testuser@gmail.com',\n",
       " 'id': 1,\n",
       " 'groups': [{'id': 1, 'name': 'public', 'url': '/api/v1/groups/1'}],\n",
       " 'createdOn': '2024-06-20T18:19:05.229207+00:00',\n",
       " 'lastModifiedOn': '2024-06-20T18:19:05.229207+00:00',\n",
       " 'lastLoginOn': None,\n",
       " 'passwordExpiresOn': '2025-06-20T18:19:05.229207+00:00'}"
      ]
     },
     "execution_count": 9,
     "metadata": {},
     "output_type": "execute_result"
    }
   ],
   "source": [
    "client.users.create('testuser','testuser@gmail.com','testuserpassword','testuserpassword')"
   ]
  },
  {
   "cell_type": "code",
   "execution_count": 10,
   "id": "820d8943-9004-4954-8cff-0f9545ef28b8",
   "metadata": {},
   "outputs": [
    {
     "name": "stdout",
     "output_type": "stream",
     "text": [
      "\u001b[2m2024-06-20 14:19:06\u001b[0m [\u001b[32m\u001b[1mdebug    \u001b[0m] \u001b[1mRequest made.                 \u001b[0m \u001b[36mdata\u001b[0m=\u001b[35m{'username': 'testuser2', 'email': 'testuser2@gmail.com', 'password': 'testuserpassword', 'confirmPassword': 'testuserpassword'}\u001b[0m \u001b[36murl\u001b[0m=\u001b[35mhttp://localhost:5000/api/v1/users/\u001b[0m\n"
     ]
    },
    {
     "data": {
      "text/plain": [
       "{'username': 'testuser2',\n",
       " 'email': 'testuser2@gmail.com',\n",
       " 'id': 2,\n",
       " 'groups': [{'id': 1, 'name': 'public', 'url': '/api/v1/groups/1'}],\n",
       " 'createdOn': '2024-06-20T18:19:06.197123+00:00',\n",
       " 'lastModifiedOn': '2024-06-20T18:19:06.197123+00:00',\n",
       " 'lastLoginOn': None,\n",
       " 'passwordExpiresOn': '2025-06-20T18:19:06.197123+00:00'}"
      ]
     },
     "execution_count": 10,
     "metadata": {},
     "output_type": "execute_result"
    }
   ],
   "source": [
    "client.users.create('testuser2','testuser2@gmail.com','testuserpassword','testuserpassword')"
   ]
  },
  {
   "cell_type": "code",
   "execution_count": 11,
   "id": "7cdf6dfa-8c6f-481f-be82-f6d816efe624",
   "metadata": {},
   "outputs": [
    {
     "name": "stdout",
     "output_type": "stream",
     "text": [
      "\u001b[2m2024-06-20 14:19:06\u001b[0m [\u001b[32m\u001b[1mdebug    \u001b[0m] \u001b[1mRequest made.                 \u001b[0m \u001b[36mdata\u001b[0m=\u001b[35m{'username': 'testuser', 'password': 'testuserpassword'}\u001b[0m \u001b[36murl\u001b[0m=\u001b[35mhttp://localhost:5000/api/v1/auth/login\u001b[0m\n"
     ]
    },
    {
     "data": {
      "text/plain": [
       "{'username': 'testuser', 'status': 'Login successful'}"
      ]
     },
     "execution_count": 11,
     "metadata": {},
     "output_type": "execute_result"
    }
   ],
   "source": [
    "client.auth.login('testuser','testuserpassword')"
   ]
  },
  {
   "cell_type": "code",
   "execution_count": 12,
   "id": "03a2495f-64a0-46d0-b986-1fe5a3e6c3ff",
   "metadata": {},
   "outputs": [
    {
     "name": "stdout",
     "output_type": "stream",
     "text": [
      "\u001b[2m2024-06-20 14:19:06\u001b[0m [\u001b[32m\u001b[1mdebug    \u001b[0m] \u001b[1mRequest made.                 \u001b[0m \u001b[36mdata\u001b[0m=\u001b[35mNone\u001b[0m \u001b[36murl\u001b[0m=\u001b[35mhttp://localhost:5000/api/v1/users/\u001b[0m\n"
     ]
    },
    {
     "data": {
      "text/plain": [
       "{'index': 0,\n",
       " 'isComplete': True,\n",
       " 'totalNumResults': 2,\n",
       " 'first': '/api/v1/users?index=0&pageLength=10',\n",
       " 'data': [{'username': 'testuser', 'email': 'testuser@gmail.com', 'id': 1},\n",
       "  {'username': 'testuser2', 'email': 'testuser2@gmail.com', 'id': 2}]}"
      ]
     },
     "execution_count": 12,
     "metadata": {},
     "output_type": "execute_result"
    }
   ],
   "source": [
    "client.users.get_all()"
   ]
  },
  {
   "cell_type": "code",
   "execution_count": 13,
   "id": "38d3d6af-ed29-46db-b065-b8e59280e8a2",
   "metadata": {},
   "outputs": [
    {
     "name": "stdout",
     "output_type": "stream",
     "text": [
      "\u001b[2m2024-06-20 14:19:07\u001b[0m [\u001b[32m\u001b[1mdebug    \u001b[0m] \u001b[1mRequest made.                 \u001b[0m \u001b[36mdata\u001b[0m=\u001b[35mNone\u001b[0m \u001b[36murl\u001b[0m=\u001b[35mhttp://localhost:5000/api/v1/users/1\u001b[0m\n"
     ]
    },
    {
     "data": {
      "text/plain": [
       "{'username': 'testuser', 'email': 'testuser@gmail.com', 'id': 1}"
      ]
     },
     "execution_count": 13,
     "metadata": {},
     "output_type": "execute_result"
    }
   ],
   "source": [
    "client.users.get_by_id('1')"
   ]
  },
  {
   "cell_type": "code",
   "execution_count": 14,
   "id": "0d223a7f-6cb9-452a-b49b-dc22e552e681",
   "metadata": {},
   "outputs": [
    {
     "name": "stdout",
     "output_type": "stream",
     "text": [
      "\u001b[2m2024-06-20 14:19:07\u001b[0m [\u001b[32m\u001b[1mdebug    \u001b[0m] \u001b[1mRequest made.                 \u001b[0m \u001b[36mdata\u001b[0m=\u001b[35mNone\u001b[0m \u001b[36murl\u001b[0m=\u001b[35mhttp://localhost:5000/api/v1/users/2\u001b[0m\n"
     ]
    },
    {
     "data": {
      "text/plain": [
       "{'username': 'testuser2', 'email': 'testuser2@gmail.com', 'id': 2}"
      ]
     },
     "execution_count": 14,
     "metadata": {},
     "output_type": "execute_result"
    }
   ],
   "source": [
    "client.users.get_by_id('2')"
   ]
  },
  {
   "cell_type": "code",
   "execution_count": 15,
   "id": "64e47e9e-5e29-47d2-8465-bcb0c1e64ce1",
   "metadata": {},
   "outputs": [
    {
     "name": "stdout",
     "output_type": "stream",
     "text": [
      "\u001b[2m2024-06-20 14:19:08\u001b[0m [\u001b[32m\u001b[1mdebug    \u001b[0m] \u001b[1mRequest made.                 \u001b[0m \u001b[36mdata\u001b[0m=\u001b[35mNone\u001b[0m \u001b[36murl\u001b[0m=\u001b[35mhttp://localhost:5000/api/v1/users/current\u001b[0m\n"
     ]
    },
    {
     "data": {
      "text/plain": [
       "{'username': 'testuser',\n",
       " 'email': 'testuser@gmail.com',\n",
       " 'id': 1,\n",
       " 'groups': [{'id': 1, 'name': 'public', 'url': '/api/v1/groups/1'}],\n",
       " 'createdOn': '2024-06-20T18:19:05.229207+00:00',\n",
       " 'lastModifiedOn': '2024-06-20T18:19:05.229207+00:00',\n",
       " 'lastLoginOn': '2024-06-20T18:19:06.669522+00:00',\n",
       " 'passwordExpiresOn': '2025-06-20T18:19:05.229207+00:00'}"
      ]
     },
     "execution_count": 15,
     "metadata": {},
     "output_type": "execute_result"
    }
   ],
   "source": [
    "client.users.current()"
   ]
  },
  {
   "cell_type": "code",
   "execution_count": 16,
   "id": "9be1410f-19ee-4213-8c1c-34fdf6faac97",
   "metadata": {},
   "outputs": [
    {
     "name": "stdout",
     "output_type": "stream",
     "text": [
      "\u001b[2m2024-06-20 14:19:08\u001b[0m [\u001b[32m\u001b[1mdebug    \u001b[0m] \u001b[1mRequest made.                 \u001b[0m \u001b[36mdata\u001b[0m=\u001b[35mNone\u001b[0m \u001b[36murl\u001b[0m=\u001b[35mhttp://localhost:5000/api/v1/users/current\u001b[0m\n",
      "\u001b[2m2024-06-20 14:19:08\u001b[0m [\u001b[32m\u001b[1mdebug    \u001b[0m] \u001b[1mRequest made.                 \u001b[0m \u001b[36mdata\u001b[0m=\u001b[35m{'oldPassword': 'testuserpassword', 'newPassword': 'newtestuserpassword', 'confirmNewPassword': 'newtestuserpassword'}\u001b[0m \u001b[36murl\u001b[0m=\u001b[35mhttp://localhost:5000/api/v1/users/1/password\u001b[0m\n"
     ]
    },
    {
     "data": {
      "text/plain": [
       "{'status': 'Password Change Success'}"
      ]
     },
     "execution_count": 16,
     "metadata": {},
     "output_type": "execute_result"
    }
   ],
   "source": [
    "client.users.update_password_by_id(client.users.current()['id'],'testuserpassword','newtestuserpassword','newtestuserpassword')"
   ]
  },
  {
   "cell_type": "code",
   "execution_count": 17,
   "id": "38e9b0e2-a51a-44f1-95de-5d2916fd9017",
   "metadata": {},
   "outputs": [
    {
     "name": "stdout",
     "output_type": "stream",
     "text": [
      "\u001b[2m2024-06-20 14:19:10\u001b[0m [\u001b[32m\u001b[1mdebug    \u001b[0m] \u001b[1mRequest made.                 \u001b[0m \u001b[36mdata\u001b[0m=\u001b[35m{'username': 'testuser', 'email': 'newemail@email.com'}\u001b[0m \u001b[36murl\u001b[0m=\u001b[35mhttp://localhost:5000/api/v1/users/current\u001b[0m\n",
      "\u001b[2m2024-06-20 14:19:10\u001b[0m [\u001b[31m\u001b[1merror    \u001b[0m] \u001b[1mError code 401 returned.      \u001b[0m \u001b[36mdata\u001b[0m=\u001b[35m{'username': 'testuser', 'email': 'newemail@email.com'}\u001b[0m \u001b[36mmethod\u001b[0m=\u001b[35mPUT\u001b[0m \u001b[36mresponse\u001b[0m=\u001b[35m{\"message\": \"The server could not verify that you are authorized to access the URL requested. You either supplied the wrong credentials (e.g. a bad password), or your browser doesn't understand how to supply the credentials required.\"}\n",
      "\u001b[0m \u001b[36murl\u001b[0m=\u001b[35mhttp://localhost:5000/api/v1/users/current\u001b[0m\n"
     ]
    },
    {
     "ename": "StatusCodeError",
     "evalue": "Error code 401 returned.",
     "output_type": "error",
     "traceback": [
      "\u001b[0;31m---------------------------------------------------------------------------\u001b[0m",
      "\u001b[0;31mStatusCodeError\u001b[0m                           Traceback (most recent call last)",
      "Cell \u001b[0;32mIn[7], line 53\u001b[0m, in \u001b[0;36mmake_request\u001b[0;34m(session, method_name, endpoint, data, *features)\u001b[0m\n\u001b[1;32m     52\u001b[0m \u001b[38;5;28;01mif\u001b[39;00m response\u001b[38;5;241m.\u001b[39mstatus_code \u001b[38;5;129;01mis\u001b[39;00m \u001b[38;5;129;01mnot\u001b[39;00m \u001b[38;5;241m200\u001b[39m:\n\u001b[0;32m---> 53\u001b[0m     \u001b[38;5;28;01mraise\u001b[39;00m StatusCodeError() \n\u001b[1;32m     54\u001b[0m json \u001b[38;5;241m=\u001b[39m response\u001b[38;5;241m.\u001b[39mjson()\n",
      "\u001b[0;31mStatusCodeError\u001b[0m: ",
      "\nDuring handling of the above exception, another exception occurred:\n",
      "\u001b[0;31mStatusCodeError\u001b[0m                           Traceback (most recent call last)",
      "Cell \u001b[0;32mIn[17], line 1\u001b[0m\n\u001b[0;32m----> 1\u001b[0m \u001b[43mclient\u001b[49m\u001b[38;5;241;43m.\u001b[39;49m\u001b[43musers\u001b[49m\u001b[38;5;241;43m.\u001b[39;49m\u001b[43mmodify_current\u001b[49m\u001b[43m(\u001b[49m\u001b[38;5;124;43m'\u001b[39;49m\u001b[38;5;124;43mtestuser\u001b[39;49m\u001b[38;5;124;43m'\u001b[39;49m\u001b[43m,\u001b[49m\u001b[38;5;124;43m'\u001b[39;49m\u001b[38;5;124;43mnewemail@email.com\u001b[39;49m\u001b[38;5;124;43m'\u001b[39;49m\u001b[43m)\u001b[49m\n",
      "Cell \u001b[0;32mIn[7], line 157\u001b[0m, in \u001b[0;36mUsersClient.modify_current\u001b[0;34m(self, username, email)\u001b[0m\n\u001b[1;32m    154\u001b[0m \u001b[38;5;250m\u001b[39m\u001b[38;5;124;03m'''modify the current user'''\u001b[39;00m\n\u001b[1;32m    155\u001b[0m d \u001b[38;5;241m=\u001b[39m {\u001b[38;5;124m\"\u001b[39m\u001b[38;5;124musername\u001b[39m\u001b[38;5;124m\"\u001b[39m:username,\n\u001b[1;32m    156\u001b[0m      \u001b[38;5;124m\"\u001b[39m\u001b[38;5;124memail\u001b[39m\u001b[38;5;124m\"\u001b[39m: email}\n\u001b[0;32m--> 157\u001b[0m \u001b[38;5;28;01mreturn\u001b[39;00m \u001b[43mput\u001b[49m\u001b[43m(\u001b[49m\u001b[38;5;28;43mself\u001b[39;49m\u001b[38;5;241;43m.\u001b[39;49m\u001b[43msession\u001b[49m\u001b[43m,\u001b[49m\u001b[43m \u001b[49m\u001b[38;5;28;43mself\u001b[39;49m\u001b[38;5;241;43m.\u001b[39;49m\u001b[43murl\u001b[49m\u001b[43m,\u001b[49m\u001b[43m \u001b[49m\u001b[43md\u001b[49m\u001b[43m,\u001b[49m\u001b[43m \u001b[49m\u001b[38;5;124;43m'\u001b[39;49m\u001b[38;5;124;43mcurrent\u001b[39;49m\u001b[38;5;124;43m'\u001b[39;49m\u001b[43m)\u001b[49m\n",
      "Cell \u001b[0;32mIn[7], line 41\u001b[0m, in \u001b[0;36mput\u001b[0;34m(session, endpoint, data, *features)\u001b[0m\n\u001b[1;32m     39\u001b[0m \u001b[38;5;28;01mdef\u001b[39;00m \u001b[38;5;21mput\u001b[39m(session, endpoint, data, \u001b[38;5;241m*\u001b[39mfeatures):\n\u001b[1;32m     40\u001b[0m     debug(urljoin(endpoint, \u001b[38;5;241m*\u001b[39mfeatures), data)\n\u001b[0;32m---> 41\u001b[0m     \u001b[38;5;28;01mreturn\u001b[39;00m \u001b[43mmake_request\u001b[49m\u001b[43m(\u001b[49m\u001b[43msession\u001b[49m\u001b[43m,\u001b[49m\u001b[43m \u001b[49m\u001b[38;5;124;43m'\u001b[39;49m\u001b[38;5;124;43mput\u001b[39;49m\u001b[38;5;124;43m'\u001b[39;49m\u001b[43m,\u001b[49m\u001b[43m \u001b[49m\u001b[43mendpoint\u001b[49m\u001b[43m,\u001b[49m\u001b[43m \u001b[49m\u001b[43mdata\u001b[49m\u001b[43m,\u001b[49m\u001b[43m \u001b[49m\u001b[38;5;241;43m*\u001b[39;49m\u001b[43mfeatures\u001b[49m\u001b[43m)\u001b[49m\n",
      "Cell \u001b[0;32mIn[7], line 56\u001b[0m, in \u001b[0;36mmake_request\u001b[0;34m(session, method_name, endpoint, data, *features)\u001b[0m\n\u001b[1;32m     54\u001b[0m     json \u001b[38;5;241m=\u001b[39m response\u001b[38;5;241m.\u001b[39mjson()\n\u001b[1;32m     55\u001b[0m \u001b[38;5;28;01mexcept\u001b[39;00m (requests\u001b[38;5;241m.\u001b[39mConnectionError, StatusCodeError, requests\u001b[38;5;241m.\u001b[39mJSONDecodeError) \u001b[38;5;28;01mas\u001b[39;00m e:\n\u001b[0;32m---> 56\u001b[0m     \u001b[43mhandle_error\u001b[49m\u001b[43m(\u001b[49m\u001b[43msession\u001b[49m\u001b[43m,\u001b[49m\u001b[43m \u001b[49m\u001b[43murl\u001b[49m\u001b[43m,\u001b[49m\u001b[43m \u001b[49m\u001b[43mmethod_name\u001b[49m\u001b[38;5;241;43m.\u001b[39;49m\u001b[43mupper\u001b[49m\u001b[43m(\u001b[49m\u001b[43m)\u001b[49m\u001b[43m,\u001b[49m\u001b[43m \u001b[49m\u001b[43mdata\u001b[49m\u001b[43m,\u001b[49m\u001b[43m \u001b[49m\u001b[43mresponse\u001b[49m\u001b[43m,\u001b[49m\u001b[43m \u001b[49m\u001b[43me\u001b[49m\u001b[43m)\u001b[49m \n\u001b[1;32m     57\u001b[0m \u001b[38;5;28;01mreturn\u001b[39;00m json\n",
      "Cell \u001b[0;32mIn[7], line 68\u001b[0m, in \u001b[0;36mhandle_error\u001b[0;34m(session, url, method, data, response, error)\u001b[0m\n\u001b[1;32m     66\u001b[0m     message \u001b[38;5;241m=\u001b[39m \u001b[38;5;124mf\u001b[39m\u001b[38;5;124m\"\u001b[39m\u001b[38;5;124mError code \u001b[39m\u001b[38;5;132;01m{\u001b[39;00mresponse\u001b[38;5;241m.\u001b[39mstatus_code\u001b[38;5;132;01m}\u001b[39;00m\u001b[38;5;124m returned.\u001b[39m\u001b[38;5;124m\"\u001b[39m\n\u001b[1;32m     67\u001b[0m     LOGGER\u001b[38;5;241m.\u001b[39merror(message, url\u001b[38;5;241m=\u001b[39murl, method\u001b[38;5;241m=\u001b[39mmethod, data\u001b[38;5;241m=\u001b[39mdata, response\u001b[38;5;241m=\u001b[39mresponse\u001b[38;5;241m.\u001b[39mtext);\n\u001b[0;32m---> 68\u001b[0m     \u001b[38;5;28;01mraise\u001b[39;00m StatusCodeError(message);\n\u001b[1;32m     69\u001b[0m \u001b[38;5;28;01mif\u001b[39;00m (\u001b[38;5;28mtype\u001b[39m(error) \u001b[38;5;129;01mis\u001b[39;00m requests\u001b[38;5;241m.\u001b[39mJSONDecodeError):\n\u001b[1;32m     70\u001b[0m     message \u001b[38;5;241m=\u001b[39m \u001b[38;5;124mf\u001b[39m\u001b[38;5;124m\"\u001b[39m\u001b[38;5;124mJSON response could not be decoded.\u001b[39m\u001b[38;5;124m\"\u001b[39m\n",
      "\u001b[0;31mStatusCodeError\u001b[0m: Error code 401 returned."
     ]
    }
   ],
   "source": [
    "client.users.modify_current('testuser','newemail@email.com')"
   ]
  },
  {
   "cell_type": "code",
   "execution_count": 18,
   "id": "bfb22fa9-2800-4a3e-b0f0-6213a76827b6",
   "metadata": {},
   "outputs": [
    {
     "name": "stdout",
     "output_type": "stream",
     "text": [
      "\u001b[2m2024-06-20 14:19:11\u001b[0m [\u001b[32m\u001b[1mdebug    \u001b[0m] \u001b[1mRequest made.                 \u001b[0m \u001b[36mdata\u001b[0m=\u001b[35m{'username': 'testuser', 'password': 'newtestuserpassword'}\u001b[0m \u001b[36murl\u001b[0m=\u001b[35mhttp://localhost:5000/api/v1/auth/login\u001b[0m\n"
     ]
    },
    {
     "data": {
      "text/plain": [
       "{'username': 'testuser', 'status': 'Login successful'}"
      ]
     },
     "execution_count": 18,
     "metadata": {},
     "output_type": "execute_result"
    }
   ],
   "source": [
    "client.auth.login('testuser','newtestuserpassword')"
   ]
  },
  {
   "cell_type": "code",
   "execution_count": 19,
   "id": "3ecbc10b-d912-4902-89a6-b26b0939126c",
   "metadata": {},
   "outputs": [
    {
     "name": "stdout",
     "output_type": "stream",
     "text": [
      "\u001b[2m2024-06-20 14:19:21\u001b[0m [\u001b[32m\u001b[1mdebug    \u001b[0m] \u001b[1mRequest made.                 \u001b[0m \u001b[36mdata\u001b[0m=\u001b[35m{'username': 'testuser', 'email': 'newemail@email.com'}\u001b[0m \u001b[36murl\u001b[0m=\u001b[35mhttp://localhost:5000/api/v1/users/current\u001b[0m\n"
     ]
    },
    {
     "data": {
      "text/plain": [
       "{'username': 'testuser',\n",
       " 'email': 'newemail@email.com',\n",
       " 'id': 1,\n",
       " 'groups': [{'id': 1, 'name': 'public', 'url': '/api/v1/groups/1'}],\n",
       " 'createdOn': '2024-06-20T18:19:05.229207+00:00',\n",
       " 'lastModifiedOn': '2024-06-20T18:19:21.879001+00:00',\n",
       " 'lastLoginOn': '2024-06-20T18:19:11.354018+00:00',\n",
       " 'passwordExpiresOn': '2025-06-20T18:19:08.785725+00:00'}"
      ]
     },
     "execution_count": 19,
     "metadata": {},
     "output_type": "execute_result"
    }
   ],
   "source": [
    "client.users.modify_current('testuser','newemail@email.com')"
   ]
  },
  {
   "cell_type": "code",
   "execution_count": 20,
   "id": "85dff8c4-0e08-4697-83a2-0e48a2d7c82e",
   "metadata": {},
   "outputs": [
    {
     "name": "stdout",
     "output_type": "stream",
     "text": [
      "\u001b[2m2024-06-20 14:19:22\u001b[0m [\u001b[32m\u001b[1mdebug    \u001b[0m] \u001b[1mRequest made.                 \u001b[0m \u001b[36mdata\u001b[0m=\u001b[35m{'oldPassword': 'newtestuserpassword', 'newPassword': 'newnewtestuserpassword', 'confirmNewPassword': 'newnewtestuserpassword'}\u001b[0m \u001b[36murl\u001b[0m=\u001b[35mhttp://localhost:5000/api/v1/users/current/password\u001b[0m\n"
     ]
    },
    {
     "data": {
      "text/plain": [
       "{'status': 'Password Change Success'}"
      ]
     },
     "execution_count": 20,
     "metadata": {},
     "output_type": "execute_result"
    }
   ],
   "source": [
    "client.users.modify_current_password('newtestuserpassword','newnewtestuserpassword','newnewtestuserpassword')"
   ]
  },
  {
   "cell_type": "code",
   "execution_count": 21,
   "id": "2bd0e110-e0e2-40a8-bbe1-b42de674095f",
   "metadata": {},
   "outputs": [
    {
     "name": "stdout",
     "output_type": "stream",
     "text": [
      "\u001b[2m2024-06-20 14:19:22\u001b[0m [\u001b[32m\u001b[1mdebug    \u001b[0m] \u001b[1mRequest made.                 \u001b[0m \u001b[36mdata\u001b[0m=\u001b[35m{'everywhere': True}\u001b[0m \u001b[36murl\u001b[0m=\u001b[35mhttp://localhost:5000/api/v1/auth/logout\u001b[0m\n",
      "\u001b[2m2024-06-20 14:19:22\u001b[0m [\u001b[31m\u001b[1merror    \u001b[0m] \u001b[1mError code 401 returned.      \u001b[0m \u001b[36mdata\u001b[0m=\u001b[35m{'everywhere': True}\u001b[0m \u001b[36mmethod\u001b[0m=\u001b[35mPOST\u001b[0m \u001b[36mresponse\u001b[0m=\u001b[35m{\"message\": \"The server could not verify that you are authorized to access the URL requested. You either supplied the wrong credentials (e.g. a bad password), or your browser doesn't understand how to supply the credentials required.\"}\n",
      "\u001b[0m \u001b[36murl\u001b[0m=\u001b[35mhttp://localhost:5000/api/v1/auth/logout\u001b[0m\n"
     ]
    },
    {
     "ename": "StatusCodeError",
     "evalue": "Error code 401 returned.",
     "output_type": "error",
     "traceback": [
      "\u001b[0;31m---------------------------------------------------------------------------\u001b[0m",
      "\u001b[0;31mStatusCodeError\u001b[0m                           Traceback (most recent call last)",
      "Cell \u001b[0;32mIn[7], line 53\u001b[0m, in \u001b[0;36mmake_request\u001b[0;34m(session, method_name, endpoint, data, *features)\u001b[0m\n\u001b[1;32m     52\u001b[0m \u001b[38;5;28;01mif\u001b[39;00m response\u001b[38;5;241m.\u001b[39mstatus_code \u001b[38;5;129;01mis\u001b[39;00m \u001b[38;5;129;01mnot\u001b[39;00m \u001b[38;5;241m200\u001b[39m:\n\u001b[0;32m---> 53\u001b[0m     \u001b[38;5;28;01mraise\u001b[39;00m StatusCodeError() \n\u001b[1;32m     54\u001b[0m json \u001b[38;5;241m=\u001b[39m response\u001b[38;5;241m.\u001b[39mjson()\n",
      "\u001b[0;31mStatusCodeError\u001b[0m: ",
      "\nDuring handling of the above exception, another exception occurred:\n",
      "\u001b[0;31mStatusCodeError\u001b[0m                           Traceback (most recent call last)",
      "Cell \u001b[0;32mIn[21], line 1\u001b[0m\n\u001b[0;32m----> 1\u001b[0m \u001b[43mclient\u001b[49m\u001b[38;5;241;43m.\u001b[39;49m\u001b[43mauth\u001b[49m\u001b[38;5;241;43m.\u001b[39;49m\u001b[43mlogout\u001b[49m\u001b[43m(\u001b[49m\u001b[38;5;28;43;01mTrue\u001b[39;49;00m\u001b[43m)\u001b[49m\n",
      "Cell \u001b[0;32mIn[7], line 180\u001b[0m, in \u001b[0;36mAuthClient.logout\u001b[0;34m(self, everywhere)\u001b[0m\n\u001b[1;32m    178\u001b[0m \u001b[38;5;250m\u001b[39m\u001b[38;5;124;03m'''logout as the current user'''\u001b[39;00m\n\u001b[1;32m    179\u001b[0m d \u001b[38;5;241m=\u001b[39m {\u001b[38;5;124m\"\u001b[39m\u001b[38;5;124meverywhere\u001b[39m\u001b[38;5;124m\"\u001b[39m: everywhere}\n\u001b[0;32m--> 180\u001b[0m \u001b[38;5;28;01mreturn\u001b[39;00m \u001b[43mpost\u001b[49m\u001b[43m(\u001b[49m\u001b[38;5;28;43mself\u001b[39;49m\u001b[38;5;241;43m.\u001b[39;49m\u001b[43msession\u001b[49m\u001b[43m,\u001b[49m\u001b[43m \u001b[49m\u001b[38;5;28;43mself\u001b[39;49m\u001b[38;5;241;43m.\u001b[39;49m\u001b[43murl\u001b[49m\u001b[43m,\u001b[49m\u001b[43m \u001b[49m\u001b[43md\u001b[49m\u001b[43m,\u001b[49m\u001b[43m \u001b[49m\u001b[38;5;124;43m'\u001b[39;49m\u001b[38;5;124;43mlogout\u001b[39;49m\u001b[38;5;124;43m'\u001b[39;49m\u001b[43m)\u001b[49m\n",
      "Cell \u001b[0;32mIn[7], line 35\u001b[0m, in \u001b[0;36mpost\u001b[0;34m(session, endpoint, data, *features)\u001b[0m\n\u001b[1;32m     33\u001b[0m \u001b[38;5;28;01mdef\u001b[39;00m \u001b[38;5;21mpost\u001b[39m(session, endpoint, data, \u001b[38;5;241m*\u001b[39mfeatures):\n\u001b[1;32m     34\u001b[0m     debug(urljoin(endpoint, \u001b[38;5;241m*\u001b[39mfeatures), data)\n\u001b[0;32m---> 35\u001b[0m     \u001b[38;5;28;01mreturn\u001b[39;00m \u001b[43mmake_request\u001b[49m\u001b[43m(\u001b[49m\u001b[43msession\u001b[49m\u001b[43m,\u001b[49m\u001b[43m \u001b[49m\u001b[38;5;124;43m'\u001b[39;49m\u001b[38;5;124;43mpost\u001b[39;49m\u001b[38;5;124;43m'\u001b[39;49m\u001b[43m,\u001b[49m\u001b[43m \u001b[49m\u001b[43mendpoint\u001b[49m\u001b[43m,\u001b[49m\u001b[43m \u001b[49m\u001b[43mdata\u001b[49m\u001b[43m,\u001b[49m\u001b[43m \u001b[49m\u001b[38;5;241;43m*\u001b[39;49m\u001b[43mfeatures\u001b[49m\u001b[43m)\u001b[49m\n",
      "Cell \u001b[0;32mIn[7], line 56\u001b[0m, in \u001b[0;36mmake_request\u001b[0;34m(session, method_name, endpoint, data, *features)\u001b[0m\n\u001b[1;32m     54\u001b[0m     json \u001b[38;5;241m=\u001b[39m response\u001b[38;5;241m.\u001b[39mjson()\n\u001b[1;32m     55\u001b[0m \u001b[38;5;28;01mexcept\u001b[39;00m (requests\u001b[38;5;241m.\u001b[39mConnectionError, StatusCodeError, requests\u001b[38;5;241m.\u001b[39mJSONDecodeError) \u001b[38;5;28;01mas\u001b[39;00m e:\n\u001b[0;32m---> 56\u001b[0m     \u001b[43mhandle_error\u001b[49m\u001b[43m(\u001b[49m\u001b[43msession\u001b[49m\u001b[43m,\u001b[49m\u001b[43m \u001b[49m\u001b[43murl\u001b[49m\u001b[43m,\u001b[49m\u001b[43m \u001b[49m\u001b[43mmethod_name\u001b[49m\u001b[38;5;241;43m.\u001b[39;49m\u001b[43mupper\u001b[49m\u001b[43m(\u001b[49m\u001b[43m)\u001b[49m\u001b[43m,\u001b[49m\u001b[43m \u001b[49m\u001b[43mdata\u001b[49m\u001b[43m,\u001b[49m\u001b[43m \u001b[49m\u001b[43mresponse\u001b[49m\u001b[43m,\u001b[49m\u001b[43m \u001b[49m\u001b[43me\u001b[49m\u001b[43m)\u001b[49m \n\u001b[1;32m     57\u001b[0m \u001b[38;5;28;01mreturn\u001b[39;00m json\n",
      "Cell \u001b[0;32mIn[7], line 68\u001b[0m, in \u001b[0;36mhandle_error\u001b[0;34m(session, url, method, data, response, error)\u001b[0m\n\u001b[1;32m     66\u001b[0m     message \u001b[38;5;241m=\u001b[39m \u001b[38;5;124mf\u001b[39m\u001b[38;5;124m\"\u001b[39m\u001b[38;5;124mError code \u001b[39m\u001b[38;5;132;01m{\u001b[39;00mresponse\u001b[38;5;241m.\u001b[39mstatus_code\u001b[38;5;132;01m}\u001b[39;00m\u001b[38;5;124m returned.\u001b[39m\u001b[38;5;124m\"\u001b[39m\n\u001b[1;32m     67\u001b[0m     LOGGER\u001b[38;5;241m.\u001b[39merror(message, url\u001b[38;5;241m=\u001b[39murl, method\u001b[38;5;241m=\u001b[39mmethod, data\u001b[38;5;241m=\u001b[39mdata, response\u001b[38;5;241m=\u001b[39mresponse\u001b[38;5;241m.\u001b[39mtext);\n\u001b[0;32m---> 68\u001b[0m     \u001b[38;5;28;01mraise\u001b[39;00m StatusCodeError(message);\n\u001b[1;32m     69\u001b[0m \u001b[38;5;28;01mif\u001b[39;00m (\u001b[38;5;28mtype\u001b[39m(error) \u001b[38;5;129;01mis\u001b[39;00m requests\u001b[38;5;241m.\u001b[39mJSONDecodeError):\n\u001b[1;32m     70\u001b[0m     message \u001b[38;5;241m=\u001b[39m \u001b[38;5;124mf\u001b[39m\u001b[38;5;124m\"\u001b[39m\u001b[38;5;124mJSON response could not be decoded.\u001b[39m\u001b[38;5;124m\"\u001b[39m\n",
      "\u001b[0;31mStatusCodeError\u001b[0m: Error code 401 returned."
     ]
    }
   ],
   "source": [
    "client.auth.logout(True)"
   ]
  },
  {
   "cell_type": "code",
   "execution_count": 22,
   "id": "b9cf075a-147b-4000-921e-399c83e6cc39",
   "metadata": {},
   "outputs": [
    {
     "name": "stdout",
     "output_type": "stream",
     "text": [
      "\u001b[2m2024-06-20 14:19:24\u001b[0m [\u001b[32m\u001b[1mdebug    \u001b[0m] \u001b[1mRequest made.                 \u001b[0m \u001b[36mdata\u001b[0m=\u001b[35m{'username': 'testuser', 'password': 'newnewtestuserpassword'}\u001b[0m \u001b[36murl\u001b[0m=\u001b[35mhttp://localhost:5000/api/v1/auth/login\u001b[0m\n"
     ]
    },
    {
     "data": {
      "text/plain": [
       "{'username': 'testuser', 'status': 'Login successful'}"
      ]
     },
     "execution_count": 22,
     "metadata": {},
     "output_type": "execute_result"
    }
   ],
   "source": [
    "client.auth.login('testuser','newnewtestuserpassword')"
   ]
  },
  {
   "cell_type": "code",
   "execution_count": 23,
   "id": "4733451b-e3ad-4d46-ac95-6ae988582fce",
   "metadata": {
    "scrolled": true
   },
   "outputs": [
    {
     "name": "stdout",
     "output_type": "stream",
     "text": [
      "\u001b[2m2024-06-20 14:19:34\u001b[0m [\u001b[32m\u001b[1mdebug    \u001b[0m] \u001b[1mRequest made.                 \u001b[0m \u001b[36mdata\u001b[0m=\u001b[35m{'password': 'newnewtestuserpassword'}\u001b[0m \u001b[36murl\u001b[0m=\u001b[35mhttp://localhost:5000/api/v1/users/current\u001b[0m\n"
     ]
    },
    {
     "data": {
      "text/plain": [
       "{'status': 'Success'}"
      ]
     },
     "execution_count": 23,
     "metadata": {},
     "output_type": "execute_result"
    }
   ],
   "source": [
    "client.users.delete_current('newnewtestuserpassword')"
   ]
  },
  {
   "cell_type": "code",
   "execution_count": 24,
   "id": "a2297696-3740-4eab-8eb7-a97e85b65e69",
   "metadata": {},
   "outputs": [
    {
     "name": "stdout",
     "output_type": "stream",
     "text": [
      "\u001b[2m2024-06-20 14:19:34\u001b[0m [\u001b[32m\u001b[1mdebug    \u001b[0m] \u001b[1mRequest made.                 \u001b[0m \u001b[36mdata\u001b[0m=\u001b[35m{'a': 'doesnotexist'}\u001b[0m \u001b[36murl\u001b[0m=\u001b[35mhttp://localhost:5000/api/v1/users/\u001b[0m\n",
      "\u001b[2m2024-06-20 14:19:35\u001b[0m [\u001b[31m\u001b[1merror    \u001b[0m] \u001b[1mError code 400 returned.      \u001b[0m \u001b[36mdata\u001b[0m=\u001b[35m{'a': 'doesnotexist'}\u001b[0m \u001b[36mmethod\u001b[0m=\u001b[35mPOST\u001b[0m \u001b[36mresponse\u001b[0m=\u001b[35m{\"schema_errors\": {\"a\": [\"Unknown field.\"]}}\n",
      "\u001b[0m \u001b[36murl\u001b[0m=\u001b[35mhttp://localhost:5000/api/v1/users/\u001b[0m\n"
     ]
    },
    {
     "ename": "StatusCodeError",
     "evalue": "Error code 400 returned.",
     "output_type": "error",
     "traceback": [
      "\u001b[0;31m---------------------------------------------------------------------------\u001b[0m",
      "\u001b[0;31mStatusCodeError\u001b[0m                           Traceback (most recent call last)",
      "Cell \u001b[0;32mIn[7], line 53\u001b[0m, in \u001b[0;36mmake_request\u001b[0;34m(session, method_name, endpoint, data, *features)\u001b[0m\n\u001b[1;32m     52\u001b[0m \u001b[38;5;28;01mif\u001b[39;00m response\u001b[38;5;241m.\u001b[39mstatus_code \u001b[38;5;129;01mis\u001b[39;00m \u001b[38;5;129;01mnot\u001b[39;00m \u001b[38;5;241m200\u001b[39m:\n\u001b[0;32m---> 53\u001b[0m     \u001b[38;5;28;01mraise\u001b[39;00m StatusCodeError() \n\u001b[1;32m     54\u001b[0m json \u001b[38;5;241m=\u001b[39m response\u001b[38;5;241m.\u001b[39mjson()\n",
      "\u001b[0;31mStatusCodeError\u001b[0m: ",
      "\nDuring handling of the above exception, another exception occurred:\n",
      "\u001b[0;31mStatusCodeError\u001b[0m                           Traceback (most recent call last)",
      "Cell \u001b[0;32mIn[24], line 1\u001b[0m\n\u001b[0;32m----> 1\u001b[0m \u001b[43mclient\u001b[49m\u001b[38;5;241;43m.\u001b[39;49m\u001b[43musers\u001b[49m\u001b[38;5;241;43m.\u001b[39;49m\u001b[43mfailed_user_post\u001b[49m\u001b[43m(\u001b[49m\u001b[43m)\u001b[49m \u001b[38;5;66;03m# if we get the schema wrong, it does return JSON, raise if not 200, but send json back to logs\u001b[39;00m\n",
      "Cell \u001b[0;32mIn[7], line 166\u001b[0m, in \u001b[0;36mUsersClient.failed_user_post\u001b[0;34m(self)\u001b[0m\n\u001b[1;32m    164\u001b[0m \u001b[38;5;28;01mdef\u001b[39;00m \u001b[38;5;21mfailed_user_post\u001b[39m(\u001b[38;5;28mself\u001b[39m):\n\u001b[1;32m    165\u001b[0m \u001b[38;5;250m    \u001b[39m\u001b[38;5;124;03m'''create a post request with an invalid schema, for testing'''\u001b[39;00m\n\u001b[0;32m--> 166\u001b[0m     \u001b[38;5;28;01mreturn\u001b[39;00m \u001b[43mpost\u001b[49m\u001b[43m(\u001b[49m\u001b[38;5;28;43mself\u001b[39;49m\u001b[38;5;241;43m.\u001b[39;49m\u001b[43msession\u001b[49m\u001b[43m,\u001b[49m\u001b[43m \u001b[49m\u001b[38;5;28;43mself\u001b[39;49m\u001b[38;5;241;43m.\u001b[39;49m\u001b[43murl\u001b[49m\u001b[43m,\u001b[49m\u001b[43m \u001b[49m\u001b[43m{\u001b[49m\u001b[38;5;124;43m'\u001b[39;49m\u001b[38;5;124;43ma\u001b[39;49m\u001b[38;5;124;43m'\u001b[39;49m\u001b[43m:\u001b[49m\u001b[38;5;124;43m'\u001b[39;49m\u001b[38;5;124;43mdoesnotexist\u001b[39;49m\u001b[38;5;124;43m'\u001b[39;49m\u001b[43m}\u001b[49m\u001b[43m)\u001b[49m\n",
      "Cell \u001b[0;32mIn[7], line 35\u001b[0m, in \u001b[0;36mpost\u001b[0;34m(session, endpoint, data, *features)\u001b[0m\n\u001b[1;32m     33\u001b[0m \u001b[38;5;28;01mdef\u001b[39;00m \u001b[38;5;21mpost\u001b[39m(session, endpoint, data, \u001b[38;5;241m*\u001b[39mfeatures):\n\u001b[1;32m     34\u001b[0m     debug(urljoin(endpoint, \u001b[38;5;241m*\u001b[39mfeatures), data)\n\u001b[0;32m---> 35\u001b[0m     \u001b[38;5;28;01mreturn\u001b[39;00m \u001b[43mmake_request\u001b[49m\u001b[43m(\u001b[49m\u001b[43msession\u001b[49m\u001b[43m,\u001b[49m\u001b[43m \u001b[49m\u001b[38;5;124;43m'\u001b[39;49m\u001b[38;5;124;43mpost\u001b[39;49m\u001b[38;5;124;43m'\u001b[39;49m\u001b[43m,\u001b[49m\u001b[43m \u001b[49m\u001b[43mendpoint\u001b[49m\u001b[43m,\u001b[49m\u001b[43m \u001b[49m\u001b[43mdata\u001b[49m\u001b[43m,\u001b[49m\u001b[43m \u001b[49m\u001b[38;5;241;43m*\u001b[39;49m\u001b[43mfeatures\u001b[49m\u001b[43m)\u001b[49m\n",
      "Cell \u001b[0;32mIn[7], line 56\u001b[0m, in \u001b[0;36mmake_request\u001b[0;34m(session, method_name, endpoint, data, *features)\u001b[0m\n\u001b[1;32m     54\u001b[0m     json \u001b[38;5;241m=\u001b[39m response\u001b[38;5;241m.\u001b[39mjson()\n\u001b[1;32m     55\u001b[0m \u001b[38;5;28;01mexcept\u001b[39;00m (requests\u001b[38;5;241m.\u001b[39mConnectionError, StatusCodeError, requests\u001b[38;5;241m.\u001b[39mJSONDecodeError) \u001b[38;5;28;01mas\u001b[39;00m e:\n\u001b[0;32m---> 56\u001b[0m     \u001b[43mhandle_error\u001b[49m\u001b[43m(\u001b[49m\u001b[43msession\u001b[49m\u001b[43m,\u001b[49m\u001b[43m \u001b[49m\u001b[43murl\u001b[49m\u001b[43m,\u001b[49m\u001b[43m \u001b[49m\u001b[43mmethod_name\u001b[49m\u001b[38;5;241;43m.\u001b[39;49m\u001b[43mupper\u001b[49m\u001b[43m(\u001b[49m\u001b[43m)\u001b[49m\u001b[43m,\u001b[49m\u001b[43m \u001b[49m\u001b[43mdata\u001b[49m\u001b[43m,\u001b[49m\u001b[43m \u001b[49m\u001b[43mresponse\u001b[49m\u001b[43m,\u001b[49m\u001b[43m \u001b[49m\u001b[43me\u001b[49m\u001b[43m)\u001b[49m \n\u001b[1;32m     57\u001b[0m \u001b[38;5;28;01mreturn\u001b[39;00m json\n",
      "Cell \u001b[0;32mIn[7], line 68\u001b[0m, in \u001b[0;36mhandle_error\u001b[0;34m(session, url, method, data, response, error)\u001b[0m\n\u001b[1;32m     66\u001b[0m     message \u001b[38;5;241m=\u001b[39m \u001b[38;5;124mf\u001b[39m\u001b[38;5;124m\"\u001b[39m\u001b[38;5;124mError code \u001b[39m\u001b[38;5;132;01m{\u001b[39;00mresponse\u001b[38;5;241m.\u001b[39mstatus_code\u001b[38;5;132;01m}\u001b[39;00m\u001b[38;5;124m returned.\u001b[39m\u001b[38;5;124m\"\u001b[39m\n\u001b[1;32m     67\u001b[0m     LOGGER\u001b[38;5;241m.\u001b[39merror(message, url\u001b[38;5;241m=\u001b[39murl, method\u001b[38;5;241m=\u001b[39mmethod, data\u001b[38;5;241m=\u001b[39mdata, response\u001b[38;5;241m=\u001b[39mresponse\u001b[38;5;241m.\u001b[39mtext);\n\u001b[0;32m---> 68\u001b[0m     \u001b[38;5;28;01mraise\u001b[39;00m StatusCodeError(message);\n\u001b[1;32m     69\u001b[0m \u001b[38;5;28;01mif\u001b[39;00m (\u001b[38;5;28mtype\u001b[39m(error) \u001b[38;5;129;01mis\u001b[39;00m requests\u001b[38;5;241m.\u001b[39mJSONDecodeError):\n\u001b[1;32m     70\u001b[0m     message \u001b[38;5;241m=\u001b[39m \u001b[38;5;124mf\u001b[39m\u001b[38;5;124m\"\u001b[39m\u001b[38;5;124mJSON response could not be decoded.\u001b[39m\u001b[38;5;124m\"\u001b[39m\n",
      "\u001b[0;31mStatusCodeError\u001b[0m: Error code 400 returned."
     ]
    }
   ],
   "source": [
    "client.users.failed_user_post() # if we get the schema wrong, it does return JSON, raise if not 200, but send json back to logs"
   ]
  },
  {
   "cell_type": "code",
   "execution_count": 25,
   "id": "5be4332e-2960-4ab5-8ae7-1363f27329e1",
   "metadata": {},
   "outputs": [
    {
     "name": "stdout",
     "output_type": "stream",
     "text": [
      "\u001b[2m2024-06-20 14:19:35\u001b[0m [\u001b[32m\u001b[1mdebug    \u001b[0m] \u001b[1mRequest made.                 \u001b[0m \u001b[36mdata\u001b[0m=\u001b[35mNone\u001b[0m \u001b[36murl\u001b[0m=\u001b[35mhttp://localhost:5000/api/v1/users/doesnotexist\u001b[0m\n",
      "\u001b[2m2024-06-20 14:19:35\u001b[0m [\u001b[31m\u001b[1merror    \u001b[0m] \u001b[1mError code 404 returned.      \u001b[0m \u001b[36mdata\u001b[0m=\u001b[35mNone\u001b[0m \u001b[36mmethod\u001b[0m=\u001b[35mGET\u001b[0m \u001b[36mresponse\u001b[0m=\u001b[35m<!doctype html>\n",
      "<html lang=en>\n",
      "<title>404 Not Found</title>\n",
      "<h1>Not Found</h1>\n",
      "<p>The requested URL was not found on the server. If you entered the URL manually please check your spelling and try again.</p>\n",
      "\u001b[0m \u001b[36murl\u001b[0m=\u001b[35mhttp://localhost:5000/api/v1/users/doesnotexist\u001b[0m\n"
     ]
    },
    {
     "ename": "StatusCodeError",
     "evalue": "Error code 404 returned.",
     "output_type": "error",
     "traceback": [
      "\u001b[0;31m---------------------------------------------------------------------------\u001b[0m",
      "\u001b[0;31mStatusCodeError\u001b[0m                           Traceback (most recent call last)",
      "Cell \u001b[0;32mIn[7], line 53\u001b[0m, in \u001b[0;36mmake_request\u001b[0;34m(session, method_name, endpoint, data, *features)\u001b[0m\n\u001b[1;32m     52\u001b[0m \u001b[38;5;28;01mif\u001b[39;00m response\u001b[38;5;241m.\u001b[39mstatus_code \u001b[38;5;129;01mis\u001b[39;00m \u001b[38;5;129;01mnot\u001b[39;00m \u001b[38;5;241m200\u001b[39m:\n\u001b[0;32m---> 53\u001b[0m     \u001b[38;5;28;01mraise\u001b[39;00m StatusCodeError() \n\u001b[1;32m     54\u001b[0m json \u001b[38;5;241m=\u001b[39m response\u001b[38;5;241m.\u001b[39mjson()\n",
      "\u001b[0;31mStatusCodeError\u001b[0m: ",
      "\nDuring handling of the above exception, another exception occurred:\n",
      "\u001b[0;31mStatusCodeError\u001b[0m                           Traceback (most recent call last)",
      "Cell \u001b[0;32mIn[25], line 1\u001b[0m\n\u001b[0;32m----> 1\u001b[0m \u001b[43mclient\u001b[49m\u001b[38;5;241;43m.\u001b[39;49m\u001b[43musers\u001b[49m\u001b[38;5;241;43m.\u001b[39;49m\u001b[43mfailed_user_get\u001b[49m\u001b[43m(\u001b[49m\u001b[43m)\u001b[49m \u001b[38;5;66;03m# if we get the URL wrong, it does not return JSON\u001b[39;00m\n",
      "Cell \u001b[0;32mIn[7], line 169\u001b[0m, in \u001b[0;36mUsersClient.failed_user_get\u001b[0;34m(self)\u001b[0m\n\u001b[1;32m    167\u001b[0m \u001b[38;5;28;01mdef\u001b[39;00m \u001b[38;5;21mfailed_user_get\u001b[39m(\u001b[38;5;28mself\u001b[39m):\n\u001b[1;32m    168\u001b[0m \u001b[38;5;250m    \u001b[39m\u001b[38;5;124;03m'''create a get request to an invalid url, for testing'''\u001b[39;00m\n\u001b[0;32m--> 169\u001b[0m     \u001b[38;5;28;01mreturn\u001b[39;00m \u001b[43mget\u001b[49m\u001b[43m(\u001b[49m\u001b[38;5;28;43mself\u001b[39;49m\u001b[38;5;241;43m.\u001b[39;49m\u001b[43msession\u001b[49m\u001b[43m,\u001b[49m\u001b[43m \u001b[49m\u001b[38;5;28;43mself\u001b[39;49m\u001b[38;5;241;43m.\u001b[39;49m\u001b[43murl\u001b[49m\u001b[43m,\u001b[49m\u001b[43m \u001b[49m\u001b[38;5;124;43m'\u001b[39;49m\u001b[38;5;124;43mdoesnotexist\u001b[39;49m\u001b[38;5;124;43m'\u001b[39;49m\u001b[43m)\u001b[49m\n",
      "Cell \u001b[0;32mIn[7], line 32\u001b[0m, in \u001b[0;36mget\u001b[0;34m(session, endpoint, *features)\u001b[0m\n\u001b[1;32m     30\u001b[0m \u001b[38;5;28;01mdef\u001b[39;00m \u001b[38;5;21mget\u001b[39m(session, endpoint, \u001b[38;5;241m*\u001b[39mfeatures):\n\u001b[1;32m     31\u001b[0m     debug(urljoin(endpoint, \u001b[38;5;241m*\u001b[39mfeatures))\n\u001b[0;32m---> 32\u001b[0m     \u001b[38;5;28;01mreturn\u001b[39;00m \u001b[43mmake_request\u001b[49m\u001b[43m(\u001b[49m\u001b[43msession\u001b[49m\u001b[43m,\u001b[49m\u001b[43m \u001b[49m\u001b[38;5;124;43m'\u001b[39;49m\u001b[38;5;124;43mget\u001b[39;49m\u001b[38;5;124;43m'\u001b[39;49m\u001b[43m,\u001b[49m\u001b[43m \u001b[49m\u001b[43mendpoint\u001b[49m\u001b[43m,\u001b[49m\u001b[43m \u001b[49m\u001b[38;5;28;43;01mNone\u001b[39;49;00m\u001b[43m,\u001b[49m\u001b[43m \u001b[49m\u001b[38;5;241;43m*\u001b[39;49m\u001b[43mfeatures\u001b[49m\u001b[43m)\u001b[49m\n",
      "Cell \u001b[0;32mIn[7], line 56\u001b[0m, in \u001b[0;36mmake_request\u001b[0;34m(session, method_name, endpoint, data, *features)\u001b[0m\n\u001b[1;32m     54\u001b[0m     json \u001b[38;5;241m=\u001b[39m response\u001b[38;5;241m.\u001b[39mjson()\n\u001b[1;32m     55\u001b[0m \u001b[38;5;28;01mexcept\u001b[39;00m (requests\u001b[38;5;241m.\u001b[39mConnectionError, StatusCodeError, requests\u001b[38;5;241m.\u001b[39mJSONDecodeError) \u001b[38;5;28;01mas\u001b[39;00m e:\n\u001b[0;32m---> 56\u001b[0m     \u001b[43mhandle_error\u001b[49m\u001b[43m(\u001b[49m\u001b[43msession\u001b[49m\u001b[43m,\u001b[49m\u001b[43m \u001b[49m\u001b[43murl\u001b[49m\u001b[43m,\u001b[49m\u001b[43m \u001b[49m\u001b[43mmethod_name\u001b[49m\u001b[38;5;241;43m.\u001b[39;49m\u001b[43mupper\u001b[49m\u001b[43m(\u001b[49m\u001b[43m)\u001b[49m\u001b[43m,\u001b[49m\u001b[43m \u001b[49m\u001b[43mdata\u001b[49m\u001b[43m,\u001b[49m\u001b[43m \u001b[49m\u001b[43mresponse\u001b[49m\u001b[43m,\u001b[49m\u001b[43m \u001b[49m\u001b[43me\u001b[49m\u001b[43m)\u001b[49m \n\u001b[1;32m     57\u001b[0m \u001b[38;5;28;01mreturn\u001b[39;00m json\n",
      "Cell \u001b[0;32mIn[7], line 68\u001b[0m, in \u001b[0;36mhandle_error\u001b[0;34m(session, url, method, data, response, error)\u001b[0m\n\u001b[1;32m     66\u001b[0m     message \u001b[38;5;241m=\u001b[39m \u001b[38;5;124mf\u001b[39m\u001b[38;5;124m\"\u001b[39m\u001b[38;5;124mError code \u001b[39m\u001b[38;5;132;01m{\u001b[39;00mresponse\u001b[38;5;241m.\u001b[39mstatus_code\u001b[38;5;132;01m}\u001b[39;00m\u001b[38;5;124m returned.\u001b[39m\u001b[38;5;124m\"\u001b[39m\n\u001b[1;32m     67\u001b[0m     LOGGER\u001b[38;5;241m.\u001b[39merror(message, url\u001b[38;5;241m=\u001b[39murl, method\u001b[38;5;241m=\u001b[39mmethod, data\u001b[38;5;241m=\u001b[39mdata, response\u001b[38;5;241m=\u001b[39mresponse\u001b[38;5;241m.\u001b[39mtext);\n\u001b[0;32m---> 68\u001b[0m     \u001b[38;5;28;01mraise\u001b[39;00m StatusCodeError(message);\n\u001b[1;32m     69\u001b[0m \u001b[38;5;28;01mif\u001b[39;00m (\u001b[38;5;28mtype\u001b[39m(error) \u001b[38;5;129;01mis\u001b[39;00m requests\u001b[38;5;241m.\u001b[39mJSONDecodeError):\n\u001b[1;32m     70\u001b[0m     message \u001b[38;5;241m=\u001b[39m \u001b[38;5;124mf\u001b[39m\u001b[38;5;124m\"\u001b[39m\u001b[38;5;124mJSON response could not be decoded.\u001b[39m\u001b[38;5;124m\"\u001b[39m\n",
      "\u001b[0;31mStatusCodeError\u001b[0m: Error code 404 returned."
     ]
    }
   ],
   "source": [
    "client.users.failed_user_get() # if we get the URL wrong, it does not return JSON"
   ]
  },
  {
   "cell_type": "code",
   "execution_count": 26,
   "id": "40ce7a4e-2346-4ffe-aaee-bd99af1ff335",
   "metadata": {},
   "outputs": [
    {
     "name": "stdout",
     "output_type": "stream",
     "text": [
      "\u001b[2m2024-06-20 14:19:37\u001b[0m [\u001b[32m\u001b[1mdebug    \u001b[0m] \u001b[1mRequest made.                 \u001b[0m \u001b[36mdata\u001b[0m=\u001b[35m{'username': 'queuemgr', 'email': 'queuemgr@dioptra.nccoe.nist.gov', 'password': 'lmnopQUEUErs', 'confirmPassword': 'lmnopQUEUErs'}\u001b[0m \u001b[36murl\u001b[0m=\u001b[35mhttp://localhost:5000/api/v1/users/\u001b[0m\n",
      "\u001b[2m2024-06-20 14:19:37\u001b[0m [\u001b[32m\u001b[1mdebug    \u001b[0m] \u001b[1mRequest made.                 \u001b[0m \u001b[36mdata\u001b[0m=\u001b[35m{'username': 'queuemgr', 'password': 'lmnopQUEUErs'}\u001b[0m \u001b[36murl\u001b[0m=\u001b[35mhttp://localhost:5000/api/v1/auth/login\u001b[0m\n"
     ]
    },
    {
     "data": {
      "text/plain": [
       "{'username': 'queuemgr', 'status': 'Login successful'}"
      ]
     },
     "execution_count": 26,
     "metadata": {},
     "output_type": "execute_result"
    }
   ],
   "source": [
    "try:\n",
    "    client.users.create('queuemgr','queuemgr@dioptra.nccoe.nist.gov','lmnopQUEUErs','lmnopQUEUErs')\n",
    "except:\n",
    "    pass # ignore if user exists already\n",
    "client.auth.login('queuemgr','lmnopQUEUErs')"
   ]
  },
  {
   "cell_type": "code",
   "execution_count": 27,
   "id": "c094278c-3c7b-4ee3-bce8-9370270bd993",
   "metadata": {},
   "outputs": [
    {
     "name": "stdout",
     "output_type": "stream",
     "text": [
      "\u001b[2m2024-06-20 14:19:38\u001b[0m [\u001b[32m\u001b[1mdebug    \u001b[0m] \u001b[1mRequest made.                 \u001b[0m \u001b[36mdata\u001b[0m=\u001b[35m{'group': 1, 'name': 'tensorflow_cpu2', 'description': 'for running tensorflow on a cpu'}\u001b[0m \u001b[36murl\u001b[0m=\u001b[35mhttp://localhost:5000/api/v1/queues/\u001b[0m\n"
     ]
    }
   ],
   "source": [
    "cpu_id = client.queues.create(1, 'tensorflow_cpu2', 'for running tensorflow on a cpu')['id']"
   ]
  },
  {
   "cell_type": "code",
   "execution_count": 28,
   "id": "f0f2c51b-be69-4616-a2d0-18b6dd96abcd",
   "metadata": {},
   "outputs": [
    {
     "name": "stdout",
     "output_type": "stream",
     "text": [
      "\u001b[2m2024-06-20 14:19:38\u001b[0m [\u001b[32m\u001b[1mdebug    \u001b[0m] \u001b[1mRequest made.                 \u001b[0m \u001b[36mdata\u001b[0m=\u001b[35m{'name': 'tensorflow_cpu2', 'description': 'for running tensorflow on a cpu - modified'}\u001b[0m \u001b[36murl\u001b[0m=\u001b[35mhttp://localhost:5000/api/v1/queues/1\u001b[0m\n"
     ]
    },
    {
     "data": {
      "text/plain": [
       "{'id': 1,\n",
       " 'snapshot': 2,\n",
       " 'group': {'id': 1, 'name': 'public', 'url': '/api/v1/groups/1'},\n",
       " 'user': {'id': 3, 'username': 'queuemgr', 'url': '/api/v1/users/3'},\n",
       " 'createdOn': '2024-06-20T18:19:38.580676+00:00',\n",
       " 'lastModifiedOn': '2024-06-20T18:19:38.580676+00:00',\n",
       " 'latestSnapshot': True,\n",
       " 'tags': [],\n",
       " 'name': 'tensorflow_cpu2',\n",
       " 'description': 'for running tensorflow on a cpu - modified'}"
      ]
     },
     "execution_count": 28,
     "metadata": {},
     "output_type": "execute_result"
    }
   ],
   "source": [
    "client.queues.modify_by_queue_id(cpu_id, 'tensorflow_cpu2', 'for running tensorflow on a cpu - modified')"
   ]
  },
  {
   "cell_type": "code",
   "execution_count": 29,
   "id": "6ccefdbd-4248-4d80-94ed-dfe372075195",
   "metadata": {},
   "outputs": [
    {
     "name": "stdout",
     "output_type": "stream",
     "text": [
      "\u001b[2m2024-06-20 14:19:39\u001b[0m [\u001b[32m\u001b[1mdebug    \u001b[0m] \u001b[1mRequest made.                 \u001b[0m \u001b[36mdata\u001b[0m=\u001b[35mNone\u001b[0m \u001b[36murl\u001b[0m=\u001b[35mhttp://localhost:5000/api/v1/queues/\u001b[0m\n"
     ]
    },
    {
     "data": {
      "text/plain": [
       "{'index': 0,\n",
       " 'isComplete': True,\n",
       " 'totalNumResults': 1,\n",
       " 'first': '/api/v1/queues?index=0&pageLength=10',\n",
       " 'data': [{'id': 1,\n",
       "   'snapshot': 2,\n",
       "   'group': {'id': 1, 'name': 'public', 'url': '/api/v1/groups/1'},\n",
       "   'user': {'id': 3, 'username': 'queuemgr', 'url': '/api/v1/users/3'},\n",
       "   'createdOn': '2024-06-20T18:19:38.580676+00:00',\n",
       "   'lastModifiedOn': '2024-06-20T18:19:38.580676+00:00',\n",
       "   'latestSnapshot': True,\n",
       "   'tags': [],\n",
       "   'name': 'tensorflow_cpu2',\n",
       "   'description': 'for running tensorflow on a cpu - modified'}]}"
      ]
     },
     "execution_count": 29,
     "metadata": {},
     "output_type": "execute_result"
    }
   ],
   "source": [
    "client.queues.get_all()"
   ]
  },
  {
   "cell_type": "code",
   "execution_count": 30,
   "id": "26b82d33-dca0-4c68-9d51-83d382bf617c",
   "metadata": {},
   "outputs": [
    {
     "name": "stdout",
     "output_type": "stream",
     "text": [
      "\u001b[2m2024-06-20 14:19:39\u001b[0m [\u001b[32m\u001b[1mdebug    \u001b[0m] \u001b[1mRequest made.                 \u001b[0m \u001b[36mdata\u001b[0m=\u001b[35m{'group': 1, 'name': 'tensorflow_gpu', 'description': 'for running tensorflow on a gpu'}\u001b[0m \u001b[36murl\u001b[0m=\u001b[35mhttp://localhost:5000/api/v1/queues/drafts\u001b[0m\n"
     ]
    }
   ],
   "source": [
    "gpu_draft_id = client.queues.create_draft(1, 'tensorflow_gpu', 'for running tensorflow on a gpu')['id']"
   ]
  },
  {
   "cell_type": "code",
   "execution_count": 31,
   "id": "63bc9e97-3a75-49a6-b776-b22ab98e04c6",
   "metadata": {},
   "outputs": [
    {
     "name": "stdout",
     "output_type": "stream",
     "text": [
      "\u001b[2m2024-06-20 14:19:39\u001b[0m [\u001b[32m\u001b[1mdebug    \u001b[0m] \u001b[1mRequest made.                 \u001b[0m \u001b[36mdata\u001b[0m=\u001b[35m{'name': 'tensorflow_gpu', 'description': 'for running tensorflow on a gpu - modified'}\u001b[0m \u001b[36murl\u001b[0m=\u001b[35mhttp://localhost:5000/api/v1/queues/drafts/1\u001b[0m\n"
     ]
    },
    {
     "data": {
      "text/plain": [
       "{'id': 1,\n",
       " 'group': {'id': 1, 'name': 'public', 'url': '/api/v1/groups/1'},\n",
       " 'user': {'id': 3, 'username': 'queuemgr', 'url': '/api/v1/users/3'},\n",
       " 'createdOn': '2024-06-20T18:19:39.412053+00:00',\n",
       " 'lastModifiedOn': '2024-06-20T18:19:39.790130+00:00',\n",
       " 'resourceType': 'queue',\n",
       " 'payload': {'name': 'tensorflow_gpu',\n",
       "  'description': 'for running tensorflow on a gpu - modified'}}"
      ]
     },
     "execution_count": 31,
     "metadata": {},
     "output_type": "execute_result"
    }
   ],
   "source": [
    "client.queues.modify_draft_by_draft_id(gpu_draft_id, 'tensorflow_gpu', 'for running tensorflow on a gpu - modified')"
   ]
  },
  {
   "cell_type": "code",
   "execution_count": 32,
   "id": "ffe15e88-9fb4-473c-a6bd-bfbd23c9ce59",
   "metadata": {},
   "outputs": [
    {
     "name": "stdout",
     "output_type": "stream",
     "text": [
      "\u001b[2m2024-06-20 14:19:40\u001b[0m [\u001b[32m\u001b[1mdebug    \u001b[0m] \u001b[1mRequest made.                 \u001b[0m \u001b[36mdata\u001b[0m=\u001b[35mNone\u001b[0m \u001b[36murl\u001b[0m=\u001b[35mhttp://localhost:5000/api/v1/queues/drafts\u001b[0m\n"
     ]
    },
    {
     "data": {
      "text/plain": [
       "{'index': 0,\n",
       " 'isComplete': True,\n",
       " 'totalNumResults': 1,\n",
       " 'first': '/api/v1/queues/drafts?index=0&pageLength=10',\n",
       " 'data': [{'id': 1,\n",
       "   'group': {'id': 1, 'name': 'public', 'url': '/api/v1/groups/1'},\n",
       "   'user': {'id': 3, 'username': 'queuemgr', 'url': '/api/v1/users/3'},\n",
       "   'createdOn': '2024-06-20T18:19:39.412053+00:00',\n",
       "   'lastModifiedOn': '2024-06-20T18:19:39.790130+00:00',\n",
       "   'resourceType': 'queue',\n",
       "   'payload': {'name': 'tensorflow_gpu',\n",
       "    'description': 'for running tensorflow on a gpu - modified'}}]}"
      ]
     },
     "execution_count": 32,
     "metadata": {},
     "output_type": "execute_result"
    }
   ],
   "source": [
    "client.queues.get_drafts()"
   ]
  },
  {
   "cell_type": "code",
   "execution_count": 33,
   "id": "b3595da2-16d6-4aa6-9eaf-97faf2173aa9",
   "metadata": {},
   "outputs": [
    {
     "name": "stdout",
     "output_type": "stream",
     "text": [
      "\u001b[2m2024-06-20 14:19:40\u001b[0m [\u001b[32m\u001b[1mdebug    \u001b[0m] \u001b[1mRequest made.                 \u001b[0m \u001b[36mdata\u001b[0m=\u001b[35mNone\u001b[0m \u001b[36murl\u001b[0m=\u001b[35mhttp://localhost:5000/api/v1/queues/drafts/1\u001b[0m\n"
     ]
    },
    {
     "data": {
      "text/plain": [
       "{'id': 1,\n",
       " 'group': {'id': 1, 'name': 'public', 'url': '/api/v1/groups/1'},\n",
       " 'user': {'id': 3, 'username': 'queuemgr', 'url': '/api/v1/users/3'},\n",
       " 'createdOn': '2024-06-20T18:19:39.412053+00:00',\n",
       " 'lastModifiedOn': '2024-06-20T18:19:39.790130+00:00',\n",
       " 'resourceType': 'queue',\n",
       " 'payload': {'name': 'tensorflow_gpu',\n",
       "  'description': 'for running tensorflow on a gpu - modified'}}"
      ]
     },
     "execution_count": 33,
     "metadata": {},
     "output_type": "execute_result"
    }
   ],
   "source": [
    "client.queues.get_draft_by_draft_id(gpu_draft_id)"
   ]
  },
  {
   "cell_type": "code",
   "execution_count": 34,
   "id": "7378a2f8-e1f5-4fba-800c-4c2f9dd933ae",
   "metadata": {},
   "outputs": [
    {
     "name": "stdout",
     "output_type": "stream",
     "text": [
      "\u001b[2m2024-06-20 14:19:40\u001b[0m [\u001b[32m\u001b[1mdebug    \u001b[0m] \u001b[1mRequest made.                 \u001b[0m \u001b[36mdata\u001b[0m=\u001b[35mNone\u001b[0m \u001b[36murl\u001b[0m=\u001b[35mhttp://localhost:5000/api/v1/queues/drafts/1\u001b[0m\n"
     ]
    },
    {
     "data": {
      "text/plain": [
       "{'status': 'Success'}"
      ]
     },
     "execution_count": 34,
     "metadata": {},
     "output_type": "execute_result"
    }
   ],
   "source": [
    "client.queues.delete_draft_by_draft_id(gpu_draft_id)"
   ]
  },
  {
   "cell_type": "code",
   "execution_count": 35,
   "id": "78af2bbc-cd55-4e44-9d64-5fe17d2514f7",
   "metadata": {},
   "outputs": [
    {
     "name": "stdout",
     "output_type": "stream",
     "text": [
      "\u001b[2m2024-06-20 14:19:41\u001b[0m [\u001b[32m\u001b[1mdebug    \u001b[0m] \u001b[1mRequest made.                 \u001b[0m \u001b[36mdata\u001b[0m=\u001b[35m{'name': 'tensorflow_cpu2', 'description': 'oops my draft deleted the description'}\u001b[0m \u001b[36murl\u001b[0m=\u001b[35mhttp://localhost:5000/api/v1/queues/1/draft\u001b[0m\n"
     ]
    },
    {
     "data": {
      "text/plain": [
       "{'id': 1,\n",
       " 'group': {'id': 1, 'name': 'public', 'url': '/api/v1/groups/1'},\n",
       " 'user': {'id': 3, 'username': 'queuemgr', 'url': '/api/v1/users/3'},\n",
       " 'createdOn': '2024-06-20T18:19:41.380028+00:00',\n",
       " 'lastModifiedOn': '2024-06-20T18:19:41.380028+00:00',\n",
       " 'resourceType': 'queue',\n",
       " 'payload': {'name': 'tensorflow_cpu2',\n",
       "  'description': 'oops my draft deleted the description'},\n",
       " 'resource': 1,\n",
       " 'resourceSnapshot': 2,\n",
       " 'numOtherDrafts': 0}"
      ]
     },
     "execution_count": 35,
     "metadata": {},
     "output_type": "execute_result"
    }
   ],
   "source": [
    "client.queues.create_draft_by_queue_id(cpu_id, 'tensorflow_cpu2', 'oops my draft deleted the description')"
   ]
  },
  {
   "cell_type": "code",
   "execution_count": 36,
   "id": "6d0a7ffe-2086-4cff-a92b-65e65a428367",
   "metadata": {},
   "outputs": [
    {
     "name": "stdout",
     "output_type": "stream",
     "text": [
      "\u001b[2m2024-06-20 14:19:41\u001b[0m [\u001b[32m\u001b[1mdebug    \u001b[0m] \u001b[1mRequest made.                 \u001b[0m \u001b[36mdata\u001b[0m=\u001b[35mNone\u001b[0m \u001b[36murl\u001b[0m=\u001b[35mhttp://localhost:5000/api/v1/queues/1/draft\u001b[0m\n"
     ]
    },
    {
     "data": {
      "text/plain": [
       "{'id': 1,\n",
       " 'group': {'id': 1, 'name': 'public', 'url': '/api/v1/groups/1'},\n",
       " 'user': {'id': 3, 'username': 'queuemgr', 'url': '/api/v1/users/3'},\n",
       " 'createdOn': '2024-06-20T18:19:41.380028+00:00',\n",
       " 'lastModifiedOn': '2024-06-20T18:19:41.380028+00:00',\n",
       " 'resourceType': 'queue',\n",
       " 'payload': {'name': 'tensorflow_cpu2',\n",
       "  'description': 'oops my draft deleted the description'},\n",
       " 'resource': 1,\n",
       " 'resourceSnapshot': 2,\n",
       " 'numOtherDrafts': 0}"
      ]
     },
     "execution_count": 36,
     "metadata": {},
     "output_type": "execute_result"
    }
   ],
   "source": [
    "client.queues.get_draft_by_queue_id(cpu_id)"
   ]
  },
  {
   "cell_type": "code",
   "execution_count": 37,
   "id": "f3a7f25c-9fe3-4ff3-9aa4-a251ea2effb7",
   "metadata": {},
   "outputs": [
    {
     "name": "stdout",
     "output_type": "stream",
     "text": [
      "\u001b[2m2024-06-20 14:19:41\u001b[0m [\u001b[32m\u001b[1mdebug    \u001b[0m] \u001b[1mRequest made.                 \u001b[0m \u001b[36mdata\u001b[0m=\u001b[35m{'name': 'tensorflow_cpu2', 'description': 'wait go back'}\u001b[0m \u001b[36murl\u001b[0m=\u001b[35mhttp://localhost:5000/api/v1/queues/1/draft\u001b[0m\n"
     ]
    },
    {
     "data": {
      "text/plain": [
       "{'id': 1,\n",
       " 'group': {'id': 1, 'name': 'public', 'url': '/api/v1/groups/1'},\n",
       " 'user': {'id': 3, 'username': 'queuemgr', 'url': '/api/v1/users/3'},\n",
       " 'createdOn': '2024-06-20T18:19:41.380028+00:00',\n",
       " 'lastModifiedOn': '2024-06-20T18:19:41.955400+00:00',\n",
       " 'resourceType': 'queue',\n",
       " 'payload': {'name': 'tensorflow_cpu2', 'description': 'wait go back'},\n",
       " 'resource': 1,\n",
       " 'resourceSnapshot': 2,\n",
       " 'numOtherDrafts': 0}"
      ]
     },
     "execution_count": 37,
     "metadata": {},
     "output_type": "execute_result"
    }
   ],
   "source": [
    "client.queues.modify_draft_by_queue_id(cpu_id, 'tensorflow_cpu2', 'wait go back')"
   ]
  },
  {
   "cell_type": "code",
   "execution_count": 38,
   "id": "650d308b-8141-4d34-849f-1c95ebd11817",
   "metadata": {},
   "outputs": [
    {
     "name": "stdout",
     "output_type": "stream",
     "text": [
      "\u001b[2m2024-06-20 14:19:42\u001b[0m [\u001b[32m\u001b[1mdebug    \u001b[0m] \u001b[1mRequest made.                 \u001b[0m \u001b[36mdata\u001b[0m=\u001b[35mNone\u001b[0m \u001b[36murl\u001b[0m=\u001b[35mhttp://localhost:5000/api/v1/queues/1/draft\u001b[0m\n"
     ]
    },
    {
     "data": {
      "text/plain": [
       "{'status': 'Success'}"
      ]
     },
     "execution_count": 38,
     "metadata": {},
     "output_type": "execute_result"
    }
   ],
   "source": [
    "client.queues.delete_draft_by_queue_id(cpu_id)"
   ]
  },
  {
   "cell_type": "code",
   "execution_count": 39,
   "id": "0dfcda77-7003-4091-854b-43c864ca4ab9",
   "metadata": {},
   "outputs": [
    {
     "name": "stdout",
     "output_type": "stream",
     "text": [
      "\u001b[2m2024-06-20 14:19:42\u001b[0m [\u001b[32m\u001b[1mdebug    \u001b[0m] \u001b[1mRequest made.                 \u001b[0m \u001b[36mdata\u001b[0m=\u001b[35mNone\u001b[0m \u001b[36murl\u001b[0m=\u001b[35mhttp://localhost:5000/api/v1/queues/1\u001b[0m\n"
     ]
    },
    {
     "data": {
      "text/plain": [
       "{'status': 'Success'}"
      ]
     },
     "execution_count": 39,
     "metadata": {},
     "output_type": "execute_result"
    }
   ],
   "source": [
    "client.queues.delete_by_queue_id(cpu_id)"
   ]
  }
 ],
 "metadata": {
  "kernelspec": {
   "display_name": "Python 3 (ipykernel)",
   "language": "python",
   "name": "python3"
  },
  "language_info": {
   "codemirror_mode": {
    "name": "ipython",
    "version": 3
   },
   "file_extension": ".py",
   "mimetype": "text/x-python",
   "name": "python",
   "nbconvert_exporter": "python",
   "pygments_lexer": "ipython3",
   "version": "3.11.9"
  }
 },
 "nbformat": 4,
 "nbformat_minor": 5
}
