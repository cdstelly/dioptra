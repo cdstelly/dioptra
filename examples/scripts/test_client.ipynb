{
 "cells": [
  {
   "cell_type": "code",
   "execution_count": 148,
   "id": "9a898dc6-6948-4196-bd02-90119250ff44",
   "metadata": {
    "tags": []
   },
   "outputs": [],
   "source": [
    "# Import packages from the Python standard library\n",
    "import importlib.util\n",
    "import os\n",
    "import sys\n",
    "import pprint\n",
    "import time\n",
    "import warnings\n",
    "from pathlib import Path\n",
    "\n",
    "\n",
    "def register_python_source_file(module_name: str, filepath: Path) -> None:\n",
    "    \"\"\"Import a source file directly.\n",
    "\n",
    "    Args:\n",
    "        module_name: The module name to associate with the imported source file.\n",
    "        filepath: The path to the source file.\n",
    "\n",
    "    Notes:\n",
    "        Adapted from the following implementation in the Python documentation:\n",
    "        https://docs.python.org/3/library/importlib.html#importing-a-source-file-directly\n",
    "    \"\"\"\n",
    "    spec = importlib.util.spec_from_file_location(module_name, str(filepath))\n",
    "    module = importlib.util.module_from_spec(spec)\n",
    "    sys.modules[module_name] = module\n",
    "    spec.loader.exec_module(module)\n",
    "\n",
    "\n",
    "# Filter out warning messages\n",
    "warnings.filterwarnings(\"ignore\")\n",
    "\n",
    "# Experiment name\n",
    "EXPERIMENT_NAME = \"mnist\"\n",
    "\n",
    "# Default address for accessing the RESTful API service\n",
    "RESTAPI_ADDRESS = \"http://localhost:5000\"\n",
    "\n",
    "# Set DIOPTRA_RESTAPI_URI variable if not defined, used to connect to RESTful API service\n",
    "os.environ[\"DIOPTRA_RESTAPI_URI\"] = RESTAPI_ADDRESS\n",
    "\n",
    "# Default address for accessing the MLFlow Tracking server\n",
    "MLFLOW_TRACKING_URI = \"http://localhost:35000\"\n",
    "\n",
    "# Set MLFLOW_TRACKING_URI variable, used to connect to MLFlow Tracking service\n",
    "if os.getenv(\"MLFLOW_TRACKING_URI\") is None:\n",
    "    os.environ[\"MLFLOW_TRACKING_URI\"] = MLFLOW_TRACKING_URI\n",
    "\n",
    "# Path to workflows archive\n",
    "WORKFLOWS_TAR_GZ = Path(\"workflows.tar.gz\")\n",
    "\n",
    "# Register the examples/scripts directory as a Python module\n",
    "register_python_source_file(\"scripts\", Path(\"..\", \"scripts\", \"__init__.py\"))\n",
    "\n",
    "#from scripts.client import DioptraClient\n",
    "from scripts.utils import make_tar\n",
    "\n",
    "# Import third-party Python packages\n",
    "import numpy as np\n",
    "from mlflow.tracking import MlflowClient\n",
    "\n",
    "# Create random number generator\n",
    "rng = np.random.default_rng(54399264723942495723666216079516778448)"
   ]
  },
  {
   "cell_type": "code",
   "execution_count": 203,
   "id": "aac2611d-db29-43f0-9afa-69e6fdcdc8c2",
   "metadata": {},
   "outputs": [],
   "source": [
    "from __future__ import annotations\n",
    "\n",
    "import os\n",
    "from pathlib import Path\n",
    "from posixpath import join as urljoin\n",
    "from typing import Any\n",
    "from urllib.parse import urlparse, urlunparse\n",
    "import inspect\n",
    "import requests\n",
    "from typing import Any, cast\n",
    "\n",
    "DEBUG = True\n",
    "class Session(object):\n",
    "    pass\n",
    "\n",
    "def create_data_dict(**kwargs):\n",
    "    return kwargs\n",
    "\n",
    "def debug(url, data=None):\n",
    "    if DEBUG:\n",
    "        print(\"url:\", url)\n",
    "        if (data):\n",
    "            print(\"data:\", data)\n",
    "def get(session, endpoint, *features):\n",
    "    debug(urljoin(endpoint, *features))\n",
    "    try:\n",
    "        return session.get(urljoin(endpoint, *features)).json()\n",
    "    except requests.ConnectionError as e:\n",
    "        handle_error(e)\n",
    "    except Exception as e:\n",
    "        handle_error(e)\n",
    "def post(session, endpoint, data, *features):\n",
    "    debug(urljoin(endpoint, *features), data)\n",
    "    try:\n",
    "        return session.post(urljoin(endpoint, *features), data=data).json()\n",
    "    except Exception as e:\n",
    "        return session.post(urljoin(endpoint, *features), data=data).text\n",
    "def delete(session, endpoint, data, *features):\n",
    "    debug(urljoin(endpoint, *features), data)\n",
    "    try:\n",
    "        ret = cast(dict[str, Any], session.post(urljoin(endpoint, *features), data=data).json())\n",
    "    except requests.ConnectionError as e:\n",
    "        handle_error(e)\n",
    "    except Exception as e:\n",
    "        handle_error(e)\n",
    "def put(session, endpoint, data, *features):\n",
    "    debug(urljoin(endpoint, *features), data)\n",
    "    return make_request(session, 'put', endpoint, data, *features)\n",
    "    try:\n",
    "        return cast(dict[str, Any], session.post(urljoin(endpoint, *features), data=data).json())\n",
    "    except requests.ConnectionError as e:\n",
    "        handle_error(e)\n",
    "    except Exception as e:\n",
    "        handle_error(e)\n",
    "def make_request(session, method, endpoint, data, *features)\n",
    "    url = urljoin(endpoint, *features)\n",
    "    method = getattr(session, method)\n",
    "    return method(url, data=data).json()\n",
    "def handle_error(error):\n",
    "    print(error)\n",
    "\n",
    "class DioptraClient(object):\n",
    "    def __init__(self, session, address=None, api_version=\"v1\") -> None:\n",
    "        self._session = session\n",
    "        self._users = UsersClient(session, \"users\", address, api_version)\n",
    "        self._auth = AuthClient(session, \"auth\", address, api_version)\n",
    "    @property\n",
    "    def users(self):\n",
    "        return self.get_endpoint(self._users)\n",
    "    @property\n",
    "    def auth(self):\n",
    "        return self.get_endpoint(self._auth)\n",
    "\n",
    "    def get_endpoint(self, ep):\n",
    "        ep.session = self._session\n",
    "        return ep\n",
    "\n",
    "class Endpoint(object):\n",
    "    def __init__(self, session, ep_name, address, api_version) -> None:\n",
    "        address = (\n",
    "            f\"{address}/api/{api_version}\"\n",
    "            if address\n",
    "            else f\"{os.environ['DIOPTRA_RESTAPI_URI']}/api/{api_version}\"\n",
    "        )\n",
    "        self._scheme, self._netloc, self._path, _, _, _ = urlparse(address)\n",
    "        self._ep_name = ep_name\n",
    "        self._session = session\n",
    "    @property\n",
    "    def session(self):\n",
    "        return self._session\n",
    "    @session.setter\n",
    "    def session(self, s):\n",
    "        self._session = s\n",
    "    @property\n",
    "    def url(self):\n",
    "        return self.def_endpoint(self._ep_name)\n",
    "    def def_endpoint(self, name):\n",
    "        '''creates base url for an endpoint by name'''\n",
    "        return urlunparse(\n",
    "            (self._scheme, self._netloc, urljoin(self._path, name + \"/\"), \"\", \"\", \"\")\n",
    "        )\n",
    "\n",
    "class UsersClient(Endpoint):\n",
    "    def get_all(self):\n",
    "        '''gets all users'''\n",
    "        return get(self.session, self.url)\n",
    "    def create(self, username, email, password, confirm_password):\n",
    "        '''creates a user'''\n",
    "        d = {\"username\":username,\n",
    "             \"email\": email,\n",
    "             \"password\": password,\n",
    "             \"confirm_password\": confirm_password}\n",
    "        return post(self.session, self.url, d, '')\n",
    "    def get_by_id(self, id):\n",
    "        '''get a user by id'''\n",
    "        return get(self.session, self.url, id)\n",
    "    def update_password_by_id(self, id, old_password, new_password, confirm_new_password):\n",
    "        '''change a user's password by id'''\n",
    "        d = {\"old_password\":old_password,\n",
    "             \"new_password\": new_password,\n",
    "             \"confirm_new_password\": confirm_new_password}\n",
    "        return post(self.session, self.url, d, id)\n",
    "    def current(self):\n",
    "        '''get the current user'''\n",
    "        return get(self.session, self.url, 'current')\n",
    "    def delete_current(self, password):\n",
    "        '''delete the current user'''\n",
    "        d = {\"password\":password}\n",
    "        return delete(self.session, self.url, d, 'current')\n",
    "    def modify_current(self, username, email):\n",
    "        '''modify the current user'''\n",
    "        d = {\"username\":username,\n",
    "             \"email\": email}\n",
    "        return put(self.session, self.url, d, 'current')\n",
    "    def modify_current_password(self, old_password, new_password, confirm_new_password):\n",
    "        '''modify the current user's password'''\n",
    "        d = {\"old_password\":old_password,\n",
    "             \"new_password\": new_password,\n",
    "             \"confirm_new_password\": confirm_new_password}\n",
    "        return put(self.session, self.url, d, 'current', 'password')\n",
    "\n",
    "class AuthClient(Endpoint):\n",
    "    def login(self, username, password):\n",
    "        d = {\"username\":username,\n",
    "             \"password\": password}\n",
    "        return post(self.session, self.url, d, 'login')\n",
    "    def logout(self, everywhere):\n",
    "        d = {\"everywhere\": everywhere}\n",
    "        return post(self.session, self.url, d, 'logout')"
   ]
  },
  {
   "cell_type": "code",
   "execution_count": 204,
   "id": "b86640a1-94c4-45d8-a470-65d97ee3c220",
   "metadata": {},
   "outputs": [
    {
     "name": "stdout",
     "output_type": "stream",
     "text": [
      "url: http://localhost:5000/api/v1/users/1234\n",
      "url: http://localhost:5000/api/v1/users/\n",
      "data: {'username': 'a', 'email': 'a@a.com', 'password': 'b', 'confirm_password': 'b'}\n"
     ]
    },
    {
     "data": {
      "text/plain": [
       "{'message': 'The browser (or proxy) sent a request that this server could not understand.'}"
      ]
     },
     "execution_count": 204,
     "metadata": {},
     "output_type": "execute_result"
    }
   ],
   "source": [
    "client = DioptraClient(requests.Session())\n",
    "client.users.get_by_id('1234')\n",
    "client.users.create('a','a@a.com','b','b')"
   ]
  },
  {
   "cell_type": "code",
   "execution_count": 205,
   "id": "7cdf6dfa-8c6f-481f-be82-f6d816efe624",
   "metadata": {},
   "outputs": [
    {
     "name": "stdout",
     "output_type": "stream",
     "text": [
      "url: http://localhost:5000/api/v1/auth/login\n",
      "data: {'username': 'dioptra', 'password': 'dioptra'}\n"
     ]
    },
    {
     "data": {
      "text/plain": [
       "{'message': 'The browser (or proxy) sent a request that this server could not understand.'}"
      ]
     },
     "execution_count": 205,
     "metadata": {},
     "output_type": "execute_result"
    }
   ],
   "source": [
    "client.auth.login('dioptra','dioptra')"
   ]
  },
  {
   "cell_type": "code",
   "execution_count": 206,
   "id": "03a2495f-64a0-46d0-b986-1fe5a3e6c3ff",
   "metadata": {},
   "outputs": [
    {
     "name": "stdout",
     "output_type": "stream",
     "text": [
      "url: http://localhost:5000/api/v1/users/\n"
     ]
    },
    {
     "data": {
      "text/plain": [
       "{'message': \"The server could not verify that you are authorized to access the URL requested. You either supplied the wrong credentials (e.g. a bad password), or your browser doesn't understand how to supply the credentials required.\"}"
      ]
     },
     "execution_count": 206,
     "metadata": {},
     "output_type": "execute_result"
    }
   ],
   "source": [
    "client.users.get_all()"
   ]
  },
  {
   "cell_type": "code",
   "execution_count": 207,
   "id": "e515a8b4-7ca8-40a1-a6f8-4b0a4f3d151c",
   "metadata": {},
   "outputs": [
    {
     "name": "stdout",
     "output_type": "stream",
     "text": [
      "url: http://localhost:5000/api/v1/users/\n",
      "data: {'username': 'a', 'email': 'a@a.com', 'password': 'b', 'confirm_password': 'b'}\n"
     ]
    },
    {
     "data": {
      "text/plain": [
       "{'message': 'The browser (or proxy) sent a request that this server could not understand.'}"
      ]
     },
     "execution_count": 207,
     "metadata": {},
     "output_type": "execute_result"
    }
   ],
   "source": [
    "client.users.create('a','a@a.com','b','b')"
   ]
  },
  {
   "cell_type": "code",
   "execution_count": 208,
   "id": "38d3d6af-ed29-46db-b065-b8e59280e8a2",
   "metadata": {},
   "outputs": [
    {
     "name": "stdout",
     "output_type": "stream",
     "text": [
      "url: http://localhost:5000/api/v1/users/1234\n"
     ]
    },
    {
     "data": {
      "text/plain": [
       "{'message': \"The server could not verify that you are authorized to access the URL requested. You either supplied the wrong credentials (e.g. a bad password), or your browser doesn't understand how to supply the credentials required.\"}"
      ]
     },
     "execution_count": 208,
     "metadata": {},
     "output_type": "execute_result"
    }
   ],
   "source": [
    "client.users.get_by_id('1234')"
   ]
  },
  {
   "cell_type": "code",
   "execution_count": 209,
   "id": "9be1410f-19ee-4213-8c1c-34fdf6faac97",
   "metadata": {},
   "outputs": [
    {
     "name": "stdout",
     "output_type": "stream",
     "text": [
      "url: http://localhost:5000/api/v1/users/1234\n",
      "data: {'old_password': 'oldp', 'new_password': 'newp', 'confirm_new_password': 'newp'}\n"
     ]
    },
    {
     "data": {
      "text/plain": [
       "{'message': 'The method is not allowed for the requested URL.'}"
      ]
     },
     "execution_count": 209,
     "metadata": {},
     "output_type": "execute_result"
    }
   ],
   "source": [
    "client.users.update_password_by_id('1234','oldp','newp','newp')"
   ]
  },
  {
   "cell_type": "code",
   "execution_count": 210,
   "id": "64e47e9e-5e29-47d2-8465-bcb0c1e64ce1",
   "metadata": {},
   "outputs": [
    {
     "name": "stdout",
     "output_type": "stream",
     "text": [
      "url: http://localhost:5000/api/v1/users/current\n"
     ]
    },
    {
     "data": {
      "text/plain": [
       "{'message': \"The server could not verify that you are authorized to access the URL requested. You either supplied the wrong credentials (e.g. a bad password), or your browser doesn't understand how to supply the credentials required.\"}"
      ]
     },
     "execution_count": 210,
     "metadata": {},
     "output_type": "execute_result"
    }
   ],
   "source": [
    "client.users.current()"
   ]
  },
  {
   "cell_type": "code",
   "execution_count": 211,
   "id": "4733451b-e3ad-4d46-ac95-6ae988582fce",
   "metadata": {},
   "outputs": [
    {
     "name": "stdout",
     "output_type": "stream",
     "text": [
      "url: http://localhost:5000/api/v1/users/current\n",
      "data: {'password': 'myp'}\n"
     ]
    }
   ],
   "source": [
    "client.users.delete_current('myp')"
   ]
  },
  {
   "cell_type": "code",
   "execution_count": 212,
   "id": "3ecbc10b-d912-4902-89a6-b26b0939126c",
   "metadata": {},
   "outputs": [
    {
     "name": "stdout",
     "output_type": "stream",
     "text": [
      "url: http://localhost:5000/api/v1/users/current\n",
      "data: {'username': 'newuser', 'email': 'newemail@email.com'}\n"
     ]
    }
   ],
   "source": [
    "client.users.modify_current('newuser','newemail@email.com')"
   ]
  },
  {
   "cell_type": "code",
   "execution_count": 213,
   "id": "85dff8c4-0e08-4697-83a2-0e48a2d7c82e",
   "metadata": {},
   "outputs": [
    {
     "name": "stdout",
     "output_type": "stream",
     "text": [
      "url: http://localhost:5000/api/v1/users/current/password\n",
      "data: {'old_password': 'oldp', 'new_password': 'newp', 'confirm_new_password': 'newp'}\n"
     ]
    }
   ],
   "source": [
    "client.users.modify_current_password('oldp','newp','newp')"
   ]
  },
  {
   "cell_type": "code",
   "execution_count": 214,
   "id": "2bd0e110-e0e2-40a8-bbe1-b42de674095f",
   "metadata": {},
   "outputs": [
    {
     "name": "stdout",
     "output_type": "stream",
     "text": [
      "url: http://localhost:5000/api/v1/auth/logout\n",
      "data: {'everywhere': True}\n"
     ]
    },
    {
     "data": {
      "text/plain": [
       "{'message': \"The server could not verify that you are authorized to access the URL requested. You either supplied the wrong credentials (e.g. a bad password), or your browser doesn't understand how to supply the credentials required.\"}"
      ]
     },
     "execution_count": 214,
     "metadata": {},
     "output_type": "execute_result"
    }
   ],
   "source": [
    "client.auth.logout(True)"
   ]
  },
  {
   "cell_type": "code",
   "execution_count": null,
   "id": "a456ffac-5775-46ad-8c5b-a693c984a0f1",
   "metadata": {},
   "outputs": [],
   "source": []
  },
  {
   "cell_type": "code",
   "execution_count": null,
   "id": "7570a4c0-f10e-4db0-8efc-a87daf7aaf3d",
   "metadata": {},
   "outputs": [],
   "source": []
  }
 ],
 "metadata": {
  "kernelspec": {
   "display_name": "Python 3 (ipykernel)",
   "language": "python",
   "name": "python3"
  },
  "language_info": {
   "codemirror_mode": {
    "name": "ipython",
    "version": 3
   },
   "file_extension": ".py",
   "mimetype": "text/x-python",
   "name": "python",
   "nbconvert_exporter": "python",
   "pygments_lexer": "ipython3",
   "version": "3.10.13"
  }
 },
 "nbformat": 4,
 "nbformat_minor": 5
}
