{
 "cells": [
  {
   "cell_type": "code",
   "execution_count": 148,
   "id": "9a898dc6-6948-4196-bd02-90119250ff44",
   "metadata": {
    "tags": []
   },
   "outputs": [],
   "source": [
    "# Import packages from the Python standard library\n",
    "import importlib.util\n",
    "import os\n",
    "import sys\n",
    "import pprint\n",
    "import time\n",
    "import warnings\n",
    "from pathlib import Path\n",
    "\n",
    "\n",
    "def register_python_source_file(module_name: str, filepath: Path) -> None:\n",
    "    \"\"\"Import a source file directly.\n",
    "\n",
    "    Args:\n",
    "        module_name: The module name to associate with the imported source file.\n",
    "        filepath: The path to the source file.\n",
    "\n",
    "    Notes:\n",
    "        Adapted from the following implementation in the Python documentation:\n",
    "        https://docs.python.org/3/library/importlib.html#importing-a-source-file-directly\n",
    "    \"\"\"\n",
    "    spec = importlib.util.spec_from_file_location(module_name, str(filepath))\n",
    "    module = importlib.util.module_from_spec(spec)\n",
    "    sys.modules[module_name] = module\n",
    "    spec.loader.exec_module(module)\n",
    "\n",
    "\n",
    "# Filter out warning messages\n",
    "warnings.filterwarnings(\"ignore\")\n",
    "\n",
    "# Experiment name\n",
    "EXPERIMENT_NAME = \"mnist\"\n",
    "\n",
    "# Default address for accessing the RESTful API service\n",
    "RESTAPI_ADDRESS = \"http://localhost:5000\"\n",
    "\n",
    "# Set DIOPTRA_RESTAPI_URI variable if not defined, used to connect to RESTful API service\n",
    "os.environ[\"DIOPTRA_RESTAPI_URI\"] = RESTAPI_ADDRESS\n",
    "\n",
    "# Default address for accessing the MLFlow Tracking server\n",
    "MLFLOW_TRACKING_URI = \"http://localhost:35000\"\n",
    "\n",
    "# Set MLFLOW_TRACKING_URI variable, used to connect to MLFlow Tracking service\n",
    "if os.getenv(\"MLFLOW_TRACKING_URI\") is None:\n",
    "    os.environ[\"MLFLOW_TRACKING_URI\"] = MLFLOW_TRACKING_URI\n",
    "\n",
    "# Path to workflows archive\n",
    "WORKFLOWS_TAR_GZ = Path(\"workflows.tar.gz\")\n",
    "\n",
    "# Register the examples/scripts directory as a Python module\n",
    "register_python_source_file(\"scripts\", Path(\"..\", \"scripts\", \"__init__.py\"))\n",
    "\n",
    "#from scripts.client import DioptraClient\n",
    "from scripts.utils import make_tar\n",
    "\n",
    "# Import third-party Python packages\n",
    "import numpy as np\n",
    "from mlflow.tracking import MlflowClient\n",
    "\n",
    "# Create random number generator\n",
    "rng = np.random.default_rng(54399264723942495723666216079516778448)"
   ]
  },
  {
   "cell_type": "code",
   "execution_count": 158,
   "id": "aac2611d-db29-43f0-9afa-69e6fdcdc8c2",
   "metadata": {},
   "outputs": [],
   "source": [
    "from __future__ import annotations\n",
    "\n",
    "import os\n",
    "from pathlib import Path\n",
    "from posixpath import join as urljoin\n",
    "from typing import Any\n",
    "from urllib.parse import urlparse, urlunparse\n",
    "import inspect\n",
    "import requests\n",
    "from typing import Any, cast\n",
    "\n",
    "\n",
    "class Session(object):\n",
    "    pass\n",
    "def create_post_dict2(*kwargs, start=0):\n",
    "    '''Used for easily converting arguments of a function into a dictionary to be sent as request data. \n",
    "       Ensure the calling function's argument names match the names of the request data to be sent.'''\n",
    "    ret = {}\n",
    "    caller_param_names = list(inspect.signature(getattr(self, inspect.currentframe().f_back.f_code.co_name)).parameters)\n",
    "    # gives the names of the caller function's parameters. combine to one dict\n",
    "    for m in zip(caller_param_names[start:], kwargs):\n",
    "        ret[m[0]] = m[1]\n",
    "    return ret\n",
    "def create_data_dict(**kwargs):\n",
    "    return kwargs\n",
    "    \n",
    "def get(session, endpoint, *features):\n",
    "    print(urljoin(endpoint, *features))\n",
    "    return requests.get(urljoin(endpoint, *features)).text\n",
    "    try:\n",
    "        ret = cast(dict[str, Any], self.session.get(experiment_id_query).json())\n",
    "    except requests.ConnectionError as e:\n",
    "        print(e)\n",
    "        print(\"Is the API endpoint running and available?\")\n",
    "\n",
    "    return requests.get(urljoin(endpoint, *features)).text\n",
    "def post(session, endpoint, data, *features):\n",
    "    print(urljoin(endpoint, *features))\n",
    "    print(data)\n",
    "    return requests.post(urljoin(endpoint, *features), data=data).text\n",
    "def delete(session, endpoint, data, *features):\n",
    "    print(urljoin(endpoint, *features))\n",
    "    print(data)\n",
    "    return requests.delete(urljoin(endpoint, *features), data=data).text\n",
    "def put(session, endpoint, data, *features):\n",
    "    print(urljoin(endpoint, *features))\n",
    "    print(data)\n",
    "    return requests.put(urljoin(endpoint, *features), data=data).text\n",
    "\n",
    "class DioptraClient(object):\n",
    "    def __init__(self, session, address=None, api_version=\"v1\") -> None:\n",
    "        self._session = session\n",
    "        self._users = UsersClient(session, \"users\", address, api_version)\n",
    "        self._auth = AuthClient(session, \"users\", address, api_version)\n",
    "    @property\n",
    "    def users(self):\n",
    "        return self.get_endpoint(self._users)\n",
    "    @property\n",
    "    def auth(self):\n",
    "        return self.get_endpoint(self._auth)\n",
    "\n",
    "    def get_endpoint(self, ep):\n",
    "        ep.session = self._session\n",
    "        return ep\n",
    "\n",
    "class Endpoint(object):\n",
    "    def __init__(self, session, ep_name, address, api_version) -> None:\n",
    "        address = (\n",
    "            f\"{address}/api/{api_version}\"\n",
    "            if address\n",
    "            else f\"{os.environ['DIOPTRA_RESTAPI_URI']}/api/{api_version}\"\n",
    "        )\n",
    "        self._scheme, self._netloc, self._path, _, _, _ = urlparse(address)\n",
    "        self._ep_name = ep_name\n",
    "        self._session = session\n",
    "    @property\n",
    "    def session(self):\n",
    "        return self._session\n",
    "    @session.setter\n",
    "    def session(self, s):\n",
    "        self._session = s\n",
    "    @property\n",
    "    def url(self):\n",
    "        return self.def_endpoint(self._ep_name)\n",
    "    def def_endpoint(self, name):\n",
    "        '''creates base url for an endpoint by name'''\n",
    "        return urlunparse(\n",
    "            (self._scheme, self._netloc, urljoin(self._path, name + \"/\"), \"\", \"\", \"\")\n",
    "        )\n",
    "\n",
    "class UsersClient(Endpoint):\n",
    "    def get_all(self):\n",
    "        '''gets all users'''\n",
    "        return get(self.session, self.url)\n",
    "    def create(self, username, email, password, confirm_password):\n",
    "        '''creates a user'''\n",
    "        d = {\"username\":username,\n",
    "             \"email\": email,\n",
    "             \"password\": password,\n",
    "             \"confirm_password\": confirm_password}\n",
    "        return post(self.session, self.url, d, '')\n",
    "    def get_by_id(self, id):\n",
    "        '''get a user by id'''\n",
    "        return get(self.session, self.url, id)\n",
    "    def update_password_by_id(self, id, old_password, new_password, confirm_new_password):\n",
    "        '''change a user's password by id'''\n",
    "        d = {\"old_password\":old_password,\n",
    "             \"new_password\": new_password,\n",
    "             \"confirm_new_password\": confirm_new_password}\n",
    "        return post(self.session, self.url, d, id)\n",
    "    def current(self):\n",
    "        '''get the current user'''\n",
    "        return get(self.session, self.url, 'current')\n",
    "    def delete_current(self, password):\n",
    "        '''delete the current user'''\n",
    "        d = {\"password\":password}\n",
    "        return delete(self.session, self.url, d, 'current')\n",
    "    def modify_current(self, username, email):\n",
    "        '''modify the current user'''\n",
    "        d = {\"username\":username,\n",
    "             \"email\": email}\n",
    "        return put(self.session, self.url, d, 'current')\n",
    "    def modify_current_password(self, old_password, new_password, confirm_new_password):\n",
    "        '''modify the current user's password'''\n",
    "        d = {\"old_password\":old_password,\n",
    "             \"new_password\": new_password,\n",
    "             \"confirm_new_password\": confirm_new_password}\n",
    "        return put(self.session, self.url, d, 'current', 'password')\n",
    "\n",
    "class AuthClient(Endpoint):\n",
    "    def login(self, username, password):\n",
    "        d = {\"username\":username,\n",
    "             \"password\": password}\n",
    "        return post(self.session, self.url, d, 'login')\n",
    "    def logout(self, everywhere):\n",
    "        d = {\"everywhere\": everywhere}\n",
    "        return post(self.session, self.url, d, 'logout')"
   ]
  },
  {
   "cell_type": "code",
   "execution_count": 159,
   "id": "b86640a1-94c4-45d8-a470-65d97ee3c220",
   "metadata": {},
   "outputs": [
    {
     "name": "stdout",
     "output_type": "stream",
     "text": [
      "http://localhost:5000/api/v1/users/1234\n",
      "http://localhost:5000/api/v1/users/\n",
      "{'username': 'a', 'email': 'a@a.com', 'password': 'b', 'confirm_password': 'b'}\n"
     ]
    },
    {
     "data": {
      "text/plain": [
       "'{\"message\": \"The browser (or proxy) sent a request that this server could not understand.\"}\\n'"
      ]
     },
     "execution_count": 159,
     "metadata": {},
     "output_type": "execute_result"
    }
   ],
   "source": [
    "client = DioptraClient(requests.Session())\n",
    "client.users.get_by_id('1234')\n",
    "client.users.create('a','a@a.com','b','b')"
   ]
  },
  {
   "cell_type": "code",
   "execution_count": 160,
   "id": "7cdf6dfa-8c6f-481f-be82-f6d816efe624",
   "metadata": {},
   "outputs": [
    {
     "name": "stdout",
     "output_type": "stream",
     "text": [
      "http://localhost:5000/api/v1/users/login\n",
      "{'username': 'testuser', 'password': 'sillypassword'}\n"
     ]
    },
    {
     "data": {
      "text/plain": [
       "'<!doctype html>\\n<html lang=en>\\n<title>404 Not Found</title>\\n<h1>Not Found</h1>\\n<p>The requested URL was not found on the server. If you entered the URL manually please check your spelling and try again.</p>\\n'"
      ]
     },
     "execution_count": 160,
     "metadata": {},
     "output_type": "execute_result"
    }
   ],
   "source": [
    "client.auth.login('testuser','sillypassword')"
   ]
  },
  {
   "cell_type": "code",
   "execution_count": 161,
   "id": "03a2495f-64a0-46d0-b986-1fe5a3e6c3ff",
   "metadata": {},
   "outputs": [
    {
     "name": "stdout",
     "output_type": "stream",
     "text": [
      "http://localhost:5000/api/v1/users/\n"
     ]
    },
    {
     "data": {
      "text/plain": [
       "'{\"message\": \"The server could not verify that you are authorized to access the URL requested. You either supplied the wrong credentials (e.g. a bad password), or your browser doesn\\'t understand how to supply the credentials required.\"}\\n'"
      ]
     },
     "execution_count": 161,
     "metadata": {},
     "output_type": "execute_result"
    }
   ],
   "source": [
    "client.users.get_all()"
   ]
  },
  {
   "cell_type": "code",
   "execution_count": 162,
   "id": "e515a8b4-7ca8-40a1-a6f8-4b0a4f3d151c",
   "metadata": {},
   "outputs": [
    {
     "name": "stdout",
     "output_type": "stream",
     "text": [
      "http://localhost:5000/api/v1/users/\n",
      "{'username': 'a', 'email': 'a@a.com', 'password': 'b', 'confirm_password': 'b'}\n"
     ]
    },
    {
     "data": {
      "text/plain": [
       "'{\"message\": \"The browser (or proxy) sent a request that this server could not understand.\"}\\n'"
      ]
     },
     "execution_count": 162,
     "metadata": {},
     "output_type": "execute_result"
    }
   ],
   "source": [
    "client.users.create('a','a@a.com','b','b')"
   ]
  },
  {
   "cell_type": "code",
   "execution_count": 163,
   "id": "38d3d6af-ed29-46db-b065-b8e59280e8a2",
   "metadata": {},
   "outputs": [
    {
     "name": "stdout",
     "output_type": "stream",
     "text": [
      "http://localhost:5000/api/v1/users/1234\n"
     ]
    },
    {
     "data": {
      "text/plain": [
       "'{\"message\": \"The server could not verify that you are authorized to access the URL requested. You either supplied the wrong credentials (e.g. a bad password), or your browser doesn\\'t understand how to supply the credentials required.\"}\\n'"
      ]
     },
     "execution_count": 163,
     "metadata": {},
     "output_type": "execute_result"
    }
   ],
   "source": [
    "client.users.get_by_id('1234')"
   ]
  },
  {
   "cell_type": "code",
   "execution_count": 164,
   "id": "9be1410f-19ee-4213-8c1c-34fdf6faac97",
   "metadata": {},
   "outputs": [
    {
     "name": "stdout",
     "output_type": "stream",
     "text": [
      "http://localhost:5000/api/v1/users/1234\n",
      "{'old_password': 'oldp', 'new_password': 'newp', 'confirm_new_password': 'newp'}\n"
     ]
    },
    {
     "data": {
      "text/plain": [
       "'{\"message\": \"The method is not allowed for the requested URL.\"}\\n'"
      ]
     },
     "execution_count": 164,
     "metadata": {},
     "output_type": "execute_result"
    }
   ],
   "source": [
    "client.users.update_password_by_id('1234','oldp','newp','newp')"
   ]
  },
  {
   "cell_type": "code",
   "execution_count": 165,
   "id": "64e47e9e-5e29-47d2-8465-bcb0c1e64ce1",
   "metadata": {},
   "outputs": [
    {
     "name": "stdout",
     "output_type": "stream",
     "text": [
      "http://localhost:5000/api/v1/users/current\n"
     ]
    },
    {
     "data": {
      "text/plain": [
       "'{\"message\": \"The server could not verify that you are authorized to access the URL requested. You either supplied the wrong credentials (e.g. a bad password), or your browser doesn\\'t understand how to supply the credentials required.\"}\\n'"
      ]
     },
     "execution_count": 165,
     "metadata": {},
     "output_type": "execute_result"
    }
   ],
   "source": [
    "client.users.current()"
   ]
  },
  {
   "cell_type": "code",
   "execution_count": 166,
   "id": "4733451b-e3ad-4d46-ac95-6ae988582fce",
   "metadata": {},
   "outputs": [
    {
     "name": "stdout",
     "output_type": "stream",
     "text": [
      "http://localhost:5000/api/v1/users/current\n",
      "{'password': 'myp'}\n"
     ]
    },
    {
     "data": {
      "text/plain": [
       "'{\"message\": \"The server could not verify that you are authorized to access the URL requested. You either supplied the wrong credentials (e.g. a bad password), or your browser doesn\\'t understand how to supply the credentials required.\"}\\n'"
      ]
     },
     "execution_count": 166,
     "metadata": {},
     "output_type": "execute_result"
    }
   ],
   "source": [
    "client.users.delete_current('myp')"
   ]
  },
  {
   "cell_type": "code",
   "execution_count": 167,
   "id": "3ecbc10b-d912-4902-89a6-b26b0939126c",
   "metadata": {},
   "outputs": [
    {
     "name": "stdout",
     "output_type": "stream",
     "text": [
      "http://localhost:5000/api/v1/users/current\n",
      "{'username': 'newuser', 'email': 'newemail@email.com'}\n"
     ]
    },
    {
     "data": {
      "text/plain": [
       "'{\"message\": \"The server could not verify that you are authorized to access the URL requested. You either supplied the wrong credentials (e.g. a bad password), or your browser doesn\\'t understand how to supply the credentials required.\"}\\n'"
      ]
     },
     "execution_count": 167,
     "metadata": {},
     "output_type": "execute_result"
    }
   ],
   "source": [
    "client.users.modify_current('newuser','newemail@email.com')"
   ]
  },
  {
   "cell_type": "code",
   "execution_count": 168,
   "id": "85dff8c4-0e08-4697-83a2-0e48a2d7c82e",
   "metadata": {},
   "outputs": [
    {
     "name": "stdout",
     "output_type": "stream",
     "text": [
      "http://localhost:5000/api/v1/users/current/password\n",
      "{'old_password': 'oldp', 'new_password': 'newp', 'confirm_new_password': 'newp'}\n"
     ]
    },
    {
     "data": {
      "text/plain": [
       "'{\"message\": \"The method is not allowed for the requested URL.\"}\\n'"
      ]
     },
     "execution_count": 168,
     "metadata": {},
     "output_type": "execute_result"
    }
   ],
   "source": [
    "client.users.modify_current_password('oldp','newp','newp')"
   ]
  },
  {
   "cell_type": "code",
   "execution_count": 169,
   "id": "2bd0e110-e0e2-40a8-bbe1-b42de674095f",
   "metadata": {},
   "outputs": [
    {
     "name": "stdout",
     "output_type": "stream",
     "text": [
      "http://localhost:5000/api/v1/users/logout\n",
      "{'everywhere': True}\n"
     ]
    },
    {
     "data": {
      "text/plain": [
       "'<!doctype html>\\n<html lang=en>\\n<title>404 Not Found</title>\\n<h1>Not Found</h1>\\n<p>The requested URL was not found on the server. If you entered the URL manually please check your spelling and try again.</p>\\n'"
      ]
     },
     "execution_count": 169,
     "metadata": {},
     "output_type": "execute_result"
    }
   ],
   "source": [
    "client.auth.logout(True)"
   ]
  }
 ],
 "metadata": {
  "kernelspec": {
   "display_name": "Python 3 (ipykernel)",
   "language": "python",
   "name": "python3"
  },
  "language_info": {
   "codemirror_mode": {
    "name": "ipython",
    "version": 3
   },
   "file_extension": ".py",
   "mimetype": "text/x-python",
   "name": "python",
   "nbconvert_exporter": "python",
   "pygments_lexer": "ipython3",
   "version": "3.10.13"
  }
 },
 "nbformat": 4,
 "nbformat_minor": 5
}
